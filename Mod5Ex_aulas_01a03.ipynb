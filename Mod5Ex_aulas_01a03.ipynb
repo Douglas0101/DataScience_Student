{
 "cells": [
  {
   "cell_type": "markdown",
   "metadata": {},
   "source": [
    "# Módulo 5 Tarefa 1\n",
    "## Base de nascidos vivos do DataSUS\n",
    "O DataSUS disponibiliza diversos arquivos de dados com relação a seus segurados, conforme a [lei da transparência de informações públicas](https://www.sisgov.com/transparencia-acesso-informacao/#:~:text=A%20Lei%20da%20Transpar%C3%AAncia%20(LC,em%20um%20site%20na%20internet.). \n",
    "\n",
    "Essas informações podem ser obtidas pela internet [aqui](http://www2.datasus.gov.br/DATASUS/index.php?area=0901&item=1). Como o processo de obtenção desses arquivos foge um pouco do nosso escopo, deixamos o arquivo SINASC_RO_2019.csv` já como vai ser encontrado no DataSUS. O dicionário de dados está no arquivo `estrutura_sinasc_para_CD.pdf` (o nome do arquivo tal qual no portal do DataSUS).\n",
    "\n",
    "### Nosso objetivo\n",
    "Queremos deixar uma base organizada para podermos estudar a relação entre partos com risco para o bebê e algumas condições como tempo de parto, consultas de pré-natal etc.\n",
    "\n",
    "#### Preparação da base\n",
    "1. Carregue a base 'SINASC_RO_2019.csv'. Conte o número de registros e o número de registros não duplicados da base. Dica: você aprendeu um método que remove duplicados, encadeie este método com um outro método que conta o número de linhas. **Há linhas duplicadas?**  \n",
    "\n",
    "2. Conte o número de valores *missing* por variável.  \n",
    "\n",
    "3. Ok, no item anterior você deve ter achado pouco prático ler a informação de tantas variáveis, muitas delas nem devem ser interesantes. Então crie uma seleção dessa base somente com as colunas que interessam. São elas:\n",
    "` \n",
    "['LOCNASC', 'IDADEMAE', 'ESTCIVMAE', 'ESCMAE', 'QTDFILVIVO', \n",
    "    'GESTACAO', 'GRAVIDEZ', 'CONSULTAS', 'APGAR5'] \n",
    "`\n",
    "Refaça a contagem de valores *missings*.  \n",
    "\n",
    "4. Apgar é uma *nota* que o pediatra dá ao bebê quando nasce de acordo com algumas características associadas principalmente à respiração. Apgar 1 e Apgar 5 são as notas 1 e 5 minutos do nascimento. Apgar5 será a nossa variável de interesse principal. Então remova todos os registros com Apgar5 não preenchido. Para esta seleção, conte novamente o número de linhas e o número de *missings*.  \n",
    "\n",
    "5. observe que as variáveis `['ESTCIVMAE', 'CONSULTAS']` possuem o código `9`, que significa *ignorado*. Vamos assumir que o não preenchido é o mesmo que o código `9`.<br>\n",
    "6. Substitua os valores faltantes da quantitativa (`QTDFILVIVO`) por zero.  \n",
    "7. Das restantes, decida que valore te parece mais adequado (um 'não preenchido' ou um valor 'mais provável' como no item anterior) e preencha. Justifique. Lembre-se de que tratamento de dados é trabalho do cientista, e que estamos tomando decisões a todo o momento - não há necessariamente certo e errado aqui.  \n",
    "8. O Apgar possui uma classificação indicando se o bebê passou por asfixia:\n",
    "- Entre 8 e 10 está em uma faixa 'normal'. \n",
    "- Entre 6 e 7, significa que o recém-nascido passou por 'asfixia leve'. \n",
    "- Entre 4 e 5 significa 'asfixia moderada'.\n",
    "- Entre 0 e 3 significa 'asfixia severa'.  \n",
    "\n",
    "Crie uma categorização dessa variável com essa codificação e calcule as frequências dessa categorização.  \n",
    "<br>\n",
    "9. Renomeie as variáveis para que fiquem no *snake case*, ou seja, em letras minúsculas, com um *underscore* entre as palávras. Dica: repare que se você não quiser criar um *dataframe* novo, você vai precisar usar a opção `inplace = True`."
   ]
  },
  {
   "cell_type": "code",
   "execution_count": 71,
   "metadata": {
    "ExecuteTime": {
     "end_time": "2024-02-13T04:49:35.362121Z",
     "start_time": "2024-02-13T04:49:34.633063Z"
    }
   },
   "outputs": [
    {
     "name": "stdout",
     "output_type": "stream",
     "text": [
      "(27028, 69)\n"
     ]
    },
    {
     "data": {
      "text/plain": "(27028, 69)"
     },
     "execution_count": 71,
     "metadata": {},
     "output_type": "execute_result"
    }
   ],
   "source": [
    "import pandas as pd\n",
    "import numpy as np\n",
    "import requests\n",
    "\n",
    "# 1) seu código aqui\n",
    "sinasc = pd.read_csv('SINASC_RO_2019.csv')\n",
    "print(sinasc.shape)\n",
    "sinasc.drop_duplicates().shape\n",
    "# Não há duplicados"
   ]
  },
  {
   "cell_type": "code",
   "outputs": [
    {
     "data": {
      "text/plain": "Empty DataFrame\nColumns: [ORIGEM, CODESTAB, CODMUNNASC, LOCNASC, IDADEMAE, ESTCIVMAE, ESCMAE, CODOCUPMAE, QTDFILVIVO, QTDFILMORT, CODMUNRES, GESTACAO, GRAVIDEZ, PARTO, CONSULTAS, DTNASC, HORANASC, SEXO, APGAR1, APGAR5, RACACOR, PESO, IDANOMAL, DTCADASTRO, CODANOMAL, NUMEROLOTE, VERSAOSIST, DTRECEBIM, DIFDATA, DTRECORIGA, NATURALMAE, CODMUNNATU, CODUFNATU, ESCMAE2010, SERIESCMAE, DTNASCMAE, RACACORMAE, QTDGESTANT, QTDPARTNOR, QTDPARTCES, IDADEPAI, DTULTMENST, SEMAGESTAC, TPMETESTIM, CONSPRENAT, MESPRENAT, TPAPRESENT, STTRABPART, STCESPARTO, TPNASCASSI, TPFUNCRESP, TPDOCRESP, DTDECLARAC, ESCMAEAGR1, STDNEPIDEM, STDNNOVA, CODPAISRES, TPROBSON, PARIDADE, KOTELCHUCK, CONTADOR, munResStatus, munResTipo, munResNome, munResUf, munResLat, munResLon, munResAlt, munResArea]\nIndex: []\n\n[0 rows x 69 columns]",
      "text/html": "<div>\n<style scoped>\n    .dataframe tbody tr th:only-of-type {\n        vertical-align: middle;\n    }\n\n    .dataframe tbody tr th {\n        vertical-align: top;\n    }\n\n    .dataframe thead th {\n        text-align: right;\n    }\n</style>\n<table border=\"1\" class=\"dataframe\">\n  <thead>\n    <tr style=\"text-align: right;\">\n      <th></th>\n      <th>ORIGEM</th>\n      <th>CODESTAB</th>\n      <th>CODMUNNASC</th>\n      <th>LOCNASC</th>\n      <th>IDADEMAE</th>\n      <th>ESTCIVMAE</th>\n      <th>ESCMAE</th>\n      <th>CODOCUPMAE</th>\n      <th>QTDFILVIVO</th>\n      <th>QTDFILMORT</th>\n      <th>...</th>\n      <th>KOTELCHUCK</th>\n      <th>CONTADOR</th>\n      <th>munResStatus</th>\n      <th>munResTipo</th>\n      <th>munResNome</th>\n      <th>munResUf</th>\n      <th>munResLat</th>\n      <th>munResLon</th>\n      <th>munResAlt</th>\n      <th>munResArea</th>\n    </tr>\n  </thead>\n  <tbody>\n  </tbody>\n</table>\n<p>0 rows × 69 columns</p>\n</div>"
     },
     "execution_count": 72,
     "metadata": {},
     "output_type": "execute_result"
    }
   ],
   "source": [
    "# 2) seu código aqui\n",
    "sinasc.isna().sum()\n",
    "sinasc.dropna()"
   ],
   "metadata": {
    "collapsed": false,
    "ExecuteTime": {
     "end_time": "2024-02-13T04:49:35.426957300Z",
     "start_time": "2024-02-13T04:49:35.336849100Z"
    }
   },
   "execution_count": 72
  },
  {
   "cell_type": "code",
   "execution_count": 73,
   "metadata": {
    "ExecuteTime": {
     "end_time": "2024-02-13T04:49:35.570391400Z",
     "start_time": "2024-02-13T04:49:35.406384700Z"
    }
   },
   "outputs": [
    {
     "name": "stdout",
     "output_type": "stream",
     "text": [
      "ORIGEM tem 0 valores missing\n",
      "CODESTAB tem 115 valores missing\n",
      "CODMUNNASC tem 0 valores missing\n",
      "LOCNASC tem 0 valores missing\n",
      "IDADEMAE tem 0 valores missing\n",
      "ESTCIVMAE tem 317 valores missing\n",
      "ESCMAE tem 312 valores missing\n",
      "CODOCUPMAE tem 2907 valores missing\n",
      "QTDFILVIVO tem 1573 valores missing\n",
      "QTDFILMORT tem 2098 valores missing\n",
      "CODMUNRES tem 0 valores missing\n",
      "GESTACAO tem 1232 valores missing\n",
      "GRAVIDEZ tem 79 valores missing\n",
      "PARTO tem 49 valores missing\n",
      "CONSULTAS tem 0 valores missing\n",
      "DTNASC tem 0 valores missing\n",
      "HORANASC tem 21 valores missing\n",
      "SEXO tem 4 valores missing\n",
      "APGAR1 tem 96 valores missing\n",
      "APGAR5 tem 103 valores missing\n",
      "RACACOR tem 647 valores missing\n",
      "PESO tem 0 valores missing\n",
      "IDANOMAL tem 591 valores missing\n",
      "DTCADASTRO tem 0 valores missing\n",
      "CODANOMAL tem 26814 valores missing\n",
      "NUMEROLOTE tem 0 valores missing\n",
      "VERSAOSIST tem 0 valores missing\n",
      "DTRECEBIM tem 0 valores missing\n",
      "DIFDATA tem 0 valores missing\n",
      "DTRECORIGA tem 27028 valores missing\n",
      "NATURALMAE tem 298 valores missing\n",
      "CODMUNNATU tem 298 valores missing\n",
      "CODUFNATU tem 298 valores missing\n",
      "ESCMAE2010 tem 249 valores missing\n",
      "SERIESCMAE tem 12710 valores missing\n",
      "DTNASCMAE tem 40 valores missing\n",
      "RACACORMAE tem 661 valores missing\n",
      "QTDGESTANT tem 1212 valores missing\n",
      "QTDPARTNOR tem 1879 valores missing\n",
      "QTDPARTCES tem 1791 valores missing\n",
      "IDADEPAI tem 19421 valores missing\n",
      "DTULTMENST tem 10072 valores missing\n",
      "SEMAGESTAC tem 1238 valores missing\n",
      "TPMETESTIM tem 1238 valores missing\n",
      "CONSPRENAT tem 930 valores missing\n",
      "MESPRENAT tem 2867 valores missing\n",
      "TPAPRESENT tem 265 valores missing\n",
      "STTRABPART tem 947 valores missing\n",
      "STCESPARTO tem 747 valores missing\n",
      "TPNASCASSI tem 61 valores missing\n",
      "TPFUNCRESP tem 67 valores missing\n",
      "TPDOCRESP tem 14 valores missing\n",
      "DTDECLARAC tem 52 valores missing\n",
      "ESCMAEAGR1 tem 249 valores missing\n",
      "STDNEPIDEM tem 0 valores missing\n",
      "STDNNOVA tem 0 valores missing\n",
      "CODPAISRES tem 0 valores missing\n",
      "TPROBSON tem 0 valores missing\n",
      "PARIDADE tem 0 valores missing\n",
      "KOTELCHUCK tem 0 valores missing\n",
      "CONTADOR tem 0 valores missing\n",
      "munResStatus tem 0 valores missing\n",
      "munResTipo tem 0 valores missing\n",
      "munResNome tem 0 valores missing\n",
      "munResUf tem 0 valores missing\n",
      "munResLat tem 1 valores missing\n",
      "munResLon tem 1 valores missing\n",
      "munResAlt tem 1 valores missing\n",
      "munResArea tem 1 valores missing\n"
     ]
    },
    {
     "data": {
      "text/plain": "              0\nORIGEM        0\nCODESTAB    115\nCODMUNNASC    0\nLOCNASC       0\nIDADEMAE      0\n...         ...\nmunResUf      0\nmunResLat     1\nmunResLon     1\nmunResAlt     1\nmunResArea    1\n\n[69 rows x 1 columns]",
      "text/html": "<div>\n<style scoped>\n    .dataframe tbody tr th:only-of-type {\n        vertical-align: middle;\n    }\n\n    .dataframe tbody tr th {\n        vertical-align: top;\n    }\n\n    .dataframe thead th {\n        text-align: right;\n    }\n</style>\n<table border=\"1\" class=\"dataframe\">\n  <thead>\n    <tr style=\"text-align: right;\">\n      <th></th>\n      <th>0</th>\n    </tr>\n  </thead>\n  <tbody>\n    <tr>\n      <th>ORIGEM</th>\n      <td>0</td>\n    </tr>\n    <tr>\n      <th>CODESTAB</th>\n      <td>115</td>\n    </tr>\n    <tr>\n      <th>CODMUNNASC</th>\n      <td>0</td>\n    </tr>\n    <tr>\n      <th>LOCNASC</th>\n      <td>0</td>\n    </tr>\n    <tr>\n      <th>IDADEMAE</th>\n      <td>0</td>\n    </tr>\n    <tr>\n      <th>...</th>\n      <td>...</td>\n    </tr>\n    <tr>\n      <th>munResUf</th>\n      <td>0</td>\n    </tr>\n    <tr>\n      <th>munResLat</th>\n      <td>1</td>\n    </tr>\n    <tr>\n      <th>munResLon</th>\n      <td>1</td>\n    </tr>\n    <tr>\n      <th>munResAlt</th>\n      <td>1</td>\n    </tr>\n    <tr>\n      <th>munResArea</th>\n      <td>1</td>\n    </tr>\n  </tbody>\n</table>\n<p>69 rows × 1 columns</p>\n</div>"
     },
     "execution_count": 73,
     "metadata": {},
     "output_type": "execute_result"
    }
   ],
   "source": [
    "# 3) seu código aqui\n",
    "def contagem(x):\n",
    "    collumns = x.columns\n",
    "    for i in collumns:\n",
    "        print(f'{i} tem {x[i].isna().sum()} valores missing')\n",
    "    return x.isna().sum()\n",
    "\n",
    "pd.DataFrame(contagem(sinasc))"
   ]
  },
  {
   "cell_type": "code",
   "execution_count": 74,
   "metadata": {
    "ExecuteTime": {
     "end_time": "2024-02-13T04:49:35.683600200Z",
     "start_time": "2024-02-13T04:49:35.512360700Z"
    }
   },
   "outputs": [
    {
     "name": "stdout",
     "output_type": "stream",
     "text": [
      "ORIGEM tem 0 valores missing\n",
      "CODESTAB tem 115 valores missing\n",
      "CODMUNNASC tem 0 valores missing\n",
      "LOCNASC tem 0 valores missing\n",
      "IDADEMAE tem 0 valores missing\n",
      "ESTCIVMAE tem 317 valores missing\n",
      "ESCMAE tem 312 valores missing\n",
      "CODOCUPMAE tem 2907 valores missing\n",
      "QTDFILVIVO tem 1573 valores missing\n",
      "QTDFILMORT tem 2098 valores missing\n",
      "CODMUNRES tem 0 valores missing\n",
      "GESTACAO tem 1232 valores missing\n",
      "GRAVIDEZ tem 79 valores missing\n",
      "PARTO tem 49 valores missing\n",
      "CONSULTAS tem 0 valores missing\n",
      "DTNASC tem 0 valores missing\n",
      "HORANASC tem 21 valores missing\n",
      "SEXO tem 4 valores missing\n",
      "APGAR1 tem 96 valores missing\n",
      "APGAR5 tem 103 valores missing\n",
      "RACACOR tem 647 valores missing\n",
      "PESO tem 0 valores missing\n",
      "IDANOMAL tem 591 valores missing\n",
      "DTCADASTRO tem 0 valores missing\n",
      "CODANOMAL tem 26814 valores missing\n",
      "NUMEROLOTE tem 0 valores missing\n",
      "VERSAOSIST tem 0 valores missing\n",
      "DTRECEBIM tem 0 valores missing\n",
      "DIFDATA tem 0 valores missing\n",
      "DTRECORIGA tem 27028 valores missing\n",
      "NATURALMAE tem 298 valores missing\n",
      "CODMUNNATU tem 298 valores missing\n",
      "CODUFNATU tem 298 valores missing\n",
      "ESCMAE2010 tem 249 valores missing\n",
      "SERIESCMAE tem 12710 valores missing\n",
      "DTNASCMAE tem 40 valores missing\n",
      "RACACORMAE tem 661 valores missing\n",
      "QTDGESTANT tem 1212 valores missing\n",
      "QTDPARTNOR tem 1879 valores missing\n",
      "QTDPARTCES tem 1791 valores missing\n",
      "IDADEPAI tem 19421 valores missing\n",
      "DTULTMENST tem 10072 valores missing\n",
      "SEMAGESTAC tem 1238 valores missing\n",
      "TPMETESTIM tem 1238 valores missing\n",
      "CONSPRENAT tem 930 valores missing\n",
      "MESPRENAT tem 2867 valores missing\n",
      "TPAPRESENT tem 265 valores missing\n",
      "STTRABPART tem 947 valores missing\n",
      "STCESPARTO tem 747 valores missing\n",
      "TPNASCASSI tem 61 valores missing\n",
      "TPFUNCRESP tem 67 valores missing\n",
      "TPDOCRESP tem 14 valores missing\n",
      "DTDECLARAC tem 52 valores missing\n",
      "ESCMAEAGR1 tem 249 valores missing\n",
      "STDNEPIDEM tem 0 valores missing\n",
      "STDNNOVA tem 0 valores missing\n",
      "CODPAISRES tem 0 valores missing\n",
      "TPROBSON tem 0 valores missing\n",
      "PARIDADE tem 0 valores missing\n",
      "KOTELCHUCK tem 0 valores missing\n",
      "CONTADOR tem 0 valores missing\n",
      "munResStatus tem 0 valores missing\n",
      "munResTipo tem 0 valores missing\n",
      "munResNome tem 0 valores missing\n",
      "munResUf tem 0 valores missing\n",
      "munResLat tem 1 valores missing\n",
      "munResLon tem 1 valores missing\n",
      "munResAlt tem 1 valores missing\n",
      "munResArea tem 1 valores missing\n"
     ]
    },
    {
     "data": {
      "text/plain": "   ORIGEM  CODESTAB  CODMUNNASC  LOCNASC  IDADEMAE  ESTCIVMAE  ESCMAE  \\\n0       0       115           0        0         0        317     312   \n\n   CODOCUPMAE  QTDFILVIVO  QTDFILMORT  ...  KOTELCHUCK  CONTADOR  \\\n0        2907        1573        2098  ...           0         0   \n\n   munResStatus  munResTipo  munResNome  munResUf  munResLat  munResLon  \\\n0             0           0           0         0          1          1   \n\n   munResAlt  munResArea  \n0          1           1  \n\n[1 rows x 69 columns]",
      "text/html": "<div>\n<style scoped>\n    .dataframe tbody tr th:only-of-type {\n        vertical-align: middle;\n    }\n\n    .dataframe tbody tr th {\n        vertical-align: top;\n    }\n\n    .dataframe thead th {\n        text-align: right;\n    }\n</style>\n<table border=\"1\" class=\"dataframe\">\n  <thead>\n    <tr style=\"text-align: right;\">\n      <th></th>\n      <th>ORIGEM</th>\n      <th>CODESTAB</th>\n      <th>CODMUNNASC</th>\n      <th>LOCNASC</th>\n      <th>IDADEMAE</th>\n      <th>ESTCIVMAE</th>\n      <th>ESCMAE</th>\n      <th>CODOCUPMAE</th>\n      <th>QTDFILVIVO</th>\n      <th>QTDFILMORT</th>\n      <th>...</th>\n      <th>KOTELCHUCK</th>\n      <th>CONTADOR</th>\n      <th>munResStatus</th>\n      <th>munResTipo</th>\n      <th>munResNome</th>\n      <th>munResUf</th>\n      <th>munResLat</th>\n      <th>munResLon</th>\n      <th>munResAlt</th>\n      <th>munResArea</th>\n    </tr>\n  </thead>\n  <tbody>\n    <tr>\n      <th>0</th>\n      <td>0</td>\n      <td>115</td>\n      <td>0</td>\n      <td>0</td>\n      <td>0</td>\n      <td>317</td>\n      <td>312</td>\n      <td>2907</td>\n      <td>1573</td>\n      <td>2098</td>\n      <td>...</td>\n      <td>0</td>\n      <td>0</td>\n      <td>0</td>\n      <td>0</td>\n      <td>0</td>\n      <td>0</td>\n      <td>1</td>\n      <td>1</td>\n      <td>1</td>\n      <td>1</td>\n    </tr>\n  </tbody>\n</table>\n<p>1 rows × 69 columns</p>\n</div>"
     },
     "execution_count": 74,
     "metadata": {},
     "output_type": "execute_result"
    }
   ],
   "source": [
    "# 4) seu código aqui\n",
    "pd.DataFrame(contagem(sinasc)).T"
   ]
  },
  {
   "cell_type": "code",
   "execution_count": 75,
   "metadata": {
    "ExecuteTime": {
     "end_time": "2024-02-13T04:49:35.808114300Z",
     "start_time": "2024-02-13T04:49:35.597177Z"
    }
   },
   "outputs": [
    {
     "data": {
      "text/plain": "       ORIGEM   CODESTAB  CODMUNNASC  LOCNASC  IDADEMAE  ESTCIVMAE  \\\n0           1  2679477.0      110001        1        19        5.0   \n1           1  2679477.0      110001        1        29        2.0   \n2           1  2679477.0      110001        1        37        9.0   \n3           1  2516500.0      110001        1        30        5.0   \n4           1  2516500.0      110001        1        30        2.0   \n...       ...        ...         ...      ...       ...        ...   \n27023       1  2604388.0      510340        1        32        2.0   \n27024       1  2752654.0      510675        1        19        1.0   \n27025       1  9659366.0      510787        1        24        2.0   \n27026       1  9659366.0      510787        1        21        2.0   \n27027       1  2795655.0      510792        1        18        5.0   \n\n                ESCMAE  CODOCUPMAE  QTDFILVIVO  QTDFILMORT  ...  KOTELCHUCK  \\\n0          8 a 11 anos         NaN         0.0         0.0  ...           5   \n1          8 a 11 anos    999992.0         1.0         0.0  ...           5   \n2          8 a 11 anos    513205.0         2.0         0.0  ...           5   \n3      12 anos ou mais    231205.0         0.0         0.0  ...           4   \n4          8 a 11 anos    999992.0         1.0         0.0  ...           5   \n...                ...         ...         ...         ...  ...         ...   \n27023  12 anos ou mais    333115.0         1.0         0.0  ...           5   \n27024      8 a 11 anos    999992.0         0.0         0.0  ...           5   \n27025      8 a 11 anos    421125.0         0.0         1.0  ...           5   \n27026      8 a 11 anos    999992.0         1.0         0.0  ...           5   \n27027      8 a 11 anos    999992.0         1.0         0.0  ...           5   \n\n      CONTADOR munResStatus munResTipo               munResNome  munResUf  \\\n0            1        ATIVO      MUNIC    Alta Floresta D'Oeste  Rondônia   \n1            2        ATIVO      MUNIC    Alta Floresta D'Oeste  Rondônia   \n2            3        ATIVO      MUNIC    Alta Floresta D'Oeste  Rondônia   \n3            4        ATIVO      MUNIC  Alto Alegre dos Parecis  Rondônia   \n4            5        ATIVO      MUNIC    Alta Floresta D'Oeste  Rondônia   \n...        ...          ...        ...                      ...       ...   \n27023  2767632        ATIVO      MUNIC                  Vilhena  Rondônia   \n27024  2772678        ATIVO      MUNIC              Chupinguaia  Rondônia   \n27025  2776905        ATIVO      MUNIC                  Vilhena  Rondônia   \n27026  2777105        ATIVO      MUNIC                  Vilhena  Rondônia   \n27027  2780269        ATIVO      MUNIC  Novo Horizonte do Oeste  Rondônia   \n\n       munResLat munResLon  munResAlt  munResArea  \n0      -11.93554 -61.99982      338.0    7067.025  \n1      -11.93554 -61.99982      338.0    7067.025  \n2      -11.93554 -61.99982      338.0    7067.025  \n3      -12.13178 -61.85308      397.0    3958.273  \n4      -11.93554 -61.99982      338.0    7067.025  \n...          ...       ...        ...         ...  \n27023  -12.74137 -60.13858      595.0   11518.915  \n27024  -12.55684 -60.90185      340.0    5126.723  \n27025  -12.74137 -60.13858      595.0   11518.915  \n27026  -12.74137 -60.13858      595.0   11518.915  \n27027  -11.70974 -61.99439      230.0     843.446  \n\n[27028 rows x 69 columns]",
      "text/html": "<div>\n<style scoped>\n    .dataframe tbody tr th:only-of-type {\n        vertical-align: middle;\n    }\n\n    .dataframe tbody tr th {\n        vertical-align: top;\n    }\n\n    .dataframe thead th {\n        text-align: right;\n    }\n</style>\n<table border=\"1\" class=\"dataframe\">\n  <thead>\n    <tr style=\"text-align: right;\">\n      <th></th>\n      <th>ORIGEM</th>\n      <th>CODESTAB</th>\n      <th>CODMUNNASC</th>\n      <th>LOCNASC</th>\n      <th>IDADEMAE</th>\n      <th>ESTCIVMAE</th>\n      <th>ESCMAE</th>\n      <th>CODOCUPMAE</th>\n      <th>QTDFILVIVO</th>\n      <th>QTDFILMORT</th>\n      <th>...</th>\n      <th>KOTELCHUCK</th>\n      <th>CONTADOR</th>\n      <th>munResStatus</th>\n      <th>munResTipo</th>\n      <th>munResNome</th>\n      <th>munResUf</th>\n      <th>munResLat</th>\n      <th>munResLon</th>\n      <th>munResAlt</th>\n      <th>munResArea</th>\n    </tr>\n  </thead>\n  <tbody>\n    <tr>\n      <th>0</th>\n      <td>1</td>\n      <td>2679477.0</td>\n      <td>110001</td>\n      <td>1</td>\n      <td>19</td>\n      <td>5.0</td>\n      <td>8 a 11 anos</td>\n      <td>NaN</td>\n      <td>0.0</td>\n      <td>0.0</td>\n      <td>...</td>\n      <td>5</td>\n      <td>1</td>\n      <td>ATIVO</td>\n      <td>MUNIC</td>\n      <td>Alta Floresta D'Oeste</td>\n      <td>Rondônia</td>\n      <td>-11.93554</td>\n      <td>-61.99982</td>\n      <td>338.0</td>\n      <td>7067.025</td>\n    </tr>\n    <tr>\n      <th>1</th>\n      <td>1</td>\n      <td>2679477.0</td>\n      <td>110001</td>\n      <td>1</td>\n      <td>29</td>\n      <td>2.0</td>\n      <td>8 a 11 anos</td>\n      <td>999992.0</td>\n      <td>1.0</td>\n      <td>0.0</td>\n      <td>...</td>\n      <td>5</td>\n      <td>2</td>\n      <td>ATIVO</td>\n      <td>MUNIC</td>\n      <td>Alta Floresta D'Oeste</td>\n      <td>Rondônia</td>\n      <td>-11.93554</td>\n      <td>-61.99982</td>\n      <td>338.0</td>\n      <td>7067.025</td>\n    </tr>\n    <tr>\n      <th>2</th>\n      <td>1</td>\n      <td>2679477.0</td>\n      <td>110001</td>\n      <td>1</td>\n      <td>37</td>\n      <td>9.0</td>\n      <td>8 a 11 anos</td>\n      <td>513205.0</td>\n      <td>2.0</td>\n      <td>0.0</td>\n      <td>...</td>\n      <td>5</td>\n      <td>3</td>\n      <td>ATIVO</td>\n      <td>MUNIC</td>\n      <td>Alta Floresta D'Oeste</td>\n      <td>Rondônia</td>\n      <td>-11.93554</td>\n      <td>-61.99982</td>\n      <td>338.0</td>\n      <td>7067.025</td>\n    </tr>\n    <tr>\n      <th>3</th>\n      <td>1</td>\n      <td>2516500.0</td>\n      <td>110001</td>\n      <td>1</td>\n      <td>30</td>\n      <td>5.0</td>\n      <td>12 anos ou mais</td>\n      <td>231205.0</td>\n      <td>0.0</td>\n      <td>0.0</td>\n      <td>...</td>\n      <td>4</td>\n      <td>4</td>\n      <td>ATIVO</td>\n      <td>MUNIC</td>\n      <td>Alto Alegre dos Parecis</td>\n      <td>Rondônia</td>\n      <td>-12.13178</td>\n      <td>-61.85308</td>\n      <td>397.0</td>\n      <td>3958.273</td>\n    </tr>\n    <tr>\n      <th>4</th>\n      <td>1</td>\n      <td>2516500.0</td>\n      <td>110001</td>\n      <td>1</td>\n      <td>30</td>\n      <td>2.0</td>\n      <td>8 a 11 anos</td>\n      <td>999992.0</td>\n      <td>1.0</td>\n      <td>0.0</td>\n      <td>...</td>\n      <td>5</td>\n      <td>5</td>\n      <td>ATIVO</td>\n      <td>MUNIC</td>\n      <td>Alta Floresta D'Oeste</td>\n      <td>Rondônia</td>\n      <td>-11.93554</td>\n      <td>-61.99982</td>\n      <td>338.0</td>\n      <td>7067.025</td>\n    </tr>\n    <tr>\n      <th>...</th>\n      <td>...</td>\n      <td>...</td>\n      <td>...</td>\n      <td>...</td>\n      <td>...</td>\n      <td>...</td>\n      <td>...</td>\n      <td>...</td>\n      <td>...</td>\n      <td>...</td>\n      <td>...</td>\n      <td>...</td>\n      <td>...</td>\n      <td>...</td>\n      <td>...</td>\n      <td>...</td>\n      <td>...</td>\n      <td>...</td>\n      <td>...</td>\n      <td>...</td>\n      <td>...</td>\n    </tr>\n    <tr>\n      <th>27023</th>\n      <td>1</td>\n      <td>2604388.0</td>\n      <td>510340</td>\n      <td>1</td>\n      <td>32</td>\n      <td>2.0</td>\n      <td>12 anos ou mais</td>\n      <td>333115.0</td>\n      <td>1.0</td>\n      <td>0.0</td>\n      <td>...</td>\n      <td>5</td>\n      <td>2767632</td>\n      <td>ATIVO</td>\n      <td>MUNIC</td>\n      <td>Vilhena</td>\n      <td>Rondônia</td>\n      <td>-12.74137</td>\n      <td>-60.13858</td>\n      <td>595.0</td>\n      <td>11518.915</td>\n    </tr>\n    <tr>\n      <th>27024</th>\n      <td>1</td>\n      <td>2752654.0</td>\n      <td>510675</td>\n      <td>1</td>\n      <td>19</td>\n      <td>1.0</td>\n      <td>8 a 11 anos</td>\n      <td>999992.0</td>\n      <td>0.0</td>\n      <td>0.0</td>\n      <td>...</td>\n      <td>5</td>\n      <td>2772678</td>\n      <td>ATIVO</td>\n      <td>MUNIC</td>\n      <td>Chupinguaia</td>\n      <td>Rondônia</td>\n      <td>-12.55684</td>\n      <td>-60.90185</td>\n      <td>340.0</td>\n      <td>5126.723</td>\n    </tr>\n    <tr>\n      <th>27025</th>\n      <td>1</td>\n      <td>9659366.0</td>\n      <td>510787</td>\n      <td>1</td>\n      <td>24</td>\n      <td>2.0</td>\n      <td>8 a 11 anos</td>\n      <td>421125.0</td>\n      <td>0.0</td>\n      <td>1.0</td>\n      <td>...</td>\n      <td>5</td>\n      <td>2776905</td>\n      <td>ATIVO</td>\n      <td>MUNIC</td>\n      <td>Vilhena</td>\n      <td>Rondônia</td>\n      <td>-12.74137</td>\n      <td>-60.13858</td>\n      <td>595.0</td>\n      <td>11518.915</td>\n    </tr>\n    <tr>\n      <th>27026</th>\n      <td>1</td>\n      <td>9659366.0</td>\n      <td>510787</td>\n      <td>1</td>\n      <td>21</td>\n      <td>2.0</td>\n      <td>8 a 11 anos</td>\n      <td>999992.0</td>\n      <td>1.0</td>\n      <td>0.0</td>\n      <td>...</td>\n      <td>5</td>\n      <td>2777105</td>\n      <td>ATIVO</td>\n      <td>MUNIC</td>\n      <td>Vilhena</td>\n      <td>Rondônia</td>\n      <td>-12.74137</td>\n      <td>-60.13858</td>\n      <td>595.0</td>\n      <td>11518.915</td>\n    </tr>\n    <tr>\n      <th>27027</th>\n      <td>1</td>\n      <td>2795655.0</td>\n      <td>510792</td>\n      <td>1</td>\n      <td>18</td>\n      <td>5.0</td>\n      <td>8 a 11 anos</td>\n      <td>999992.0</td>\n      <td>1.0</td>\n      <td>0.0</td>\n      <td>...</td>\n      <td>5</td>\n      <td>2780269</td>\n      <td>ATIVO</td>\n      <td>MUNIC</td>\n      <td>Novo Horizonte do Oeste</td>\n      <td>Rondônia</td>\n      <td>-11.70974</td>\n      <td>-61.99439</td>\n      <td>230.0</td>\n      <td>843.446</td>\n    </tr>\n  </tbody>\n</table>\n<p>27028 rows × 69 columns</p>\n</div>"
     },
     "execution_count": 75,
     "metadata": {},
     "output_type": "execute_result"
    }
   ],
   "source": [
    "# 5) seu código aqui\n",
    "sinasc['ESTCIVMAE'] = sinasc['ESTCIVMAE'].fillna(9)\n",
    "sinasc['CONSULTAS'] = sinasc['CONSULTAS'].fillna(9)\n",
    "sinasc"
   ]
  },
  {
   "cell_type": "code",
   "execution_count": 76,
   "metadata": {
    "ExecuteTime": {
     "end_time": "2024-02-13T04:49:35.891184800Z",
     "start_time": "2024-02-13T04:49:35.677420100Z"
    }
   },
   "outputs": [
    {
     "data": {
      "text/plain": "       ORIGEM   CODESTAB  CODMUNNASC  LOCNASC  IDADEMAE  ESTCIVMAE  \\\n0           1  2679477.0      110001        1        19        5.0   \n1           1  2679477.0      110001        1        29        2.0   \n2           1  2679477.0      110001        1        37        9.0   \n3           1  2516500.0      110001        1        30        5.0   \n4           1  2516500.0      110001        1        30        2.0   \n...       ...        ...         ...      ...       ...        ...   \n27023       1  2604388.0      510340        1        32        2.0   \n27024       1  2752654.0      510675        1        19        1.0   \n27025       1  9659366.0      510787        1        24        2.0   \n27026       1  9659366.0      510787        1        21        2.0   \n27027       1  2795655.0      510792        1        18        5.0   \n\n                ESCMAE  CODOCUPMAE  QTDFILVIVO  QTDFILMORT  ...  KOTELCHUCK  \\\n0          8 a 11 anos         NaN         0.0         0.0  ...           5   \n1          8 a 11 anos    999992.0         1.0         0.0  ...           5   \n2          8 a 11 anos    513205.0         2.0         0.0  ...           5   \n3      12 anos ou mais    231205.0         0.0         0.0  ...           4   \n4          8 a 11 anos    999992.0         1.0         0.0  ...           5   \n...                ...         ...         ...         ...  ...         ...   \n27023  12 anos ou mais    333115.0         1.0         0.0  ...           5   \n27024      8 a 11 anos    999992.0         0.0         0.0  ...           5   \n27025      8 a 11 anos    421125.0         0.0         1.0  ...           5   \n27026      8 a 11 anos    999992.0         1.0         0.0  ...           5   \n27027      8 a 11 anos    999992.0         1.0         0.0  ...           5   \n\n      CONTADOR munResStatus munResTipo               munResNome  munResUf  \\\n0            1        ATIVO      MUNIC    Alta Floresta D'Oeste  Rondônia   \n1            2        ATIVO      MUNIC    Alta Floresta D'Oeste  Rondônia   \n2            3        ATIVO      MUNIC    Alta Floresta D'Oeste  Rondônia   \n3            4        ATIVO      MUNIC  Alto Alegre dos Parecis  Rondônia   \n4            5        ATIVO      MUNIC    Alta Floresta D'Oeste  Rondônia   \n...        ...          ...        ...                      ...       ...   \n27023  2767632        ATIVO      MUNIC                  Vilhena  Rondônia   \n27024  2772678        ATIVO      MUNIC              Chupinguaia  Rondônia   \n27025  2776905        ATIVO      MUNIC                  Vilhena  Rondônia   \n27026  2777105        ATIVO      MUNIC                  Vilhena  Rondônia   \n27027  2780269        ATIVO      MUNIC  Novo Horizonte do Oeste  Rondônia   \n\n       munResLat munResLon  munResAlt  munResArea  \n0      -11.93554 -61.99982      338.0    7067.025  \n1      -11.93554 -61.99982      338.0    7067.025  \n2      -11.93554 -61.99982      338.0    7067.025  \n3      -12.13178 -61.85308      397.0    3958.273  \n4      -11.93554 -61.99982      338.0    7067.025  \n...          ...       ...        ...         ...  \n27023  -12.74137 -60.13858      595.0   11518.915  \n27024  -12.55684 -60.90185      340.0    5126.723  \n27025  -12.74137 -60.13858      595.0   11518.915  \n27026  -12.74137 -60.13858      595.0   11518.915  \n27027  -11.70974 -61.99439      230.0     843.446  \n\n[27028 rows x 69 columns]",
      "text/html": "<div>\n<style scoped>\n    .dataframe tbody tr th:only-of-type {\n        vertical-align: middle;\n    }\n\n    .dataframe tbody tr th {\n        vertical-align: top;\n    }\n\n    .dataframe thead th {\n        text-align: right;\n    }\n</style>\n<table border=\"1\" class=\"dataframe\">\n  <thead>\n    <tr style=\"text-align: right;\">\n      <th></th>\n      <th>ORIGEM</th>\n      <th>CODESTAB</th>\n      <th>CODMUNNASC</th>\n      <th>LOCNASC</th>\n      <th>IDADEMAE</th>\n      <th>ESTCIVMAE</th>\n      <th>ESCMAE</th>\n      <th>CODOCUPMAE</th>\n      <th>QTDFILVIVO</th>\n      <th>QTDFILMORT</th>\n      <th>...</th>\n      <th>KOTELCHUCK</th>\n      <th>CONTADOR</th>\n      <th>munResStatus</th>\n      <th>munResTipo</th>\n      <th>munResNome</th>\n      <th>munResUf</th>\n      <th>munResLat</th>\n      <th>munResLon</th>\n      <th>munResAlt</th>\n      <th>munResArea</th>\n    </tr>\n  </thead>\n  <tbody>\n    <tr>\n      <th>0</th>\n      <td>1</td>\n      <td>2679477.0</td>\n      <td>110001</td>\n      <td>1</td>\n      <td>19</td>\n      <td>5.0</td>\n      <td>8 a 11 anos</td>\n      <td>NaN</td>\n      <td>0.0</td>\n      <td>0.0</td>\n      <td>...</td>\n      <td>5</td>\n      <td>1</td>\n      <td>ATIVO</td>\n      <td>MUNIC</td>\n      <td>Alta Floresta D'Oeste</td>\n      <td>Rondônia</td>\n      <td>-11.93554</td>\n      <td>-61.99982</td>\n      <td>338.0</td>\n      <td>7067.025</td>\n    </tr>\n    <tr>\n      <th>1</th>\n      <td>1</td>\n      <td>2679477.0</td>\n      <td>110001</td>\n      <td>1</td>\n      <td>29</td>\n      <td>2.0</td>\n      <td>8 a 11 anos</td>\n      <td>999992.0</td>\n      <td>1.0</td>\n      <td>0.0</td>\n      <td>...</td>\n      <td>5</td>\n      <td>2</td>\n      <td>ATIVO</td>\n      <td>MUNIC</td>\n      <td>Alta Floresta D'Oeste</td>\n      <td>Rondônia</td>\n      <td>-11.93554</td>\n      <td>-61.99982</td>\n      <td>338.0</td>\n      <td>7067.025</td>\n    </tr>\n    <tr>\n      <th>2</th>\n      <td>1</td>\n      <td>2679477.0</td>\n      <td>110001</td>\n      <td>1</td>\n      <td>37</td>\n      <td>9.0</td>\n      <td>8 a 11 anos</td>\n      <td>513205.0</td>\n      <td>2.0</td>\n      <td>0.0</td>\n      <td>...</td>\n      <td>5</td>\n      <td>3</td>\n      <td>ATIVO</td>\n      <td>MUNIC</td>\n      <td>Alta Floresta D'Oeste</td>\n      <td>Rondônia</td>\n      <td>-11.93554</td>\n      <td>-61.99982</td>\n      <td>338.0</td>\n      <td>7067.025</td>\n    </tr>\n    <tr>\n      <th>3</th>\n      <td>1</td>\n      <td>2516500.0</td>\n      <td>110001</td>\n      <td>1</td>\n      <td>30</td>\n      <td>5.0</td>\n      <td>12 anos ou mais</td>\n      <td>231205.0</td>\n      <td>0.0</td>\n      <td>0.0</td>\n      <td>...</td>\n      <td>4</td>\n      <td>4</td>\n      <td>ATIVO</td>\n      <td>MUNIC</td>\n      <td>Alto Alegre dos Parecis</td>\n      <td>Rondônia</td>\n      <td>-12.13178</td>\n      <td>-61.85308</td>\n      <td>397.0</td>\n      <td>3958.273</td>\n    </tr>\n    <tr>\n      <th>4</th>\n      <td>1</td>\n      <td>2516500.0</td>\n      <td>110001</td>\n      <td>1</td>\n      <td>30</td>\n      <td>2.0</td>\n      <td>8 a 11 anos</td>\n      <td>999992.0</td>\n      <td>1.0</td>\n      <td>0.0</td>\n      <td>...</td>\n      <td>5</td>\n      <td>5</td>\n      <td>ATIVO</td>\n      <td>MUNIC</td>\n      <td>Alta Floresta D'Oeste</td>\n      <td>Rondônia</td>\n      <td>-11.93554</td>\n      <td>-61.99982</td>\n      <td>338.0</td>\n      <td>7067.025</td>\n    </tr>\n    <tr>\n      <th>...</th>\n      <td>...</td>\n      <td>...</td>\n      <td>...</td>\n      <td>...</td>\n      <td>...</td>\n      <td>...</td>\n      <td>...</td>\n      <td>...</td>\n      <td>...</td>\n      <td>...</td>\n      <td>...</td>\n      <td>...</td>\n      <td>...</td>\n      <td>...</td>\n      <td>...</td>\n      <td>...</td>\n      <td>...</td>\n      <td>...</td>\n      <td>...</td>\n      <td>...</td>\n      <td>...</td>\n    </tr>\n    <tr>\n      <th>27023</th>\n      <td>1</td>\n      <td>2604388.0</td>\n      <td>510340</td>\n      <td>1</td>\n      <td>32</td>\n      <td>2.0</td>\n      <td>12 anos ou mais</td>\n      <td>333115.0</td>\n      <td>1.0</td>\n      <td>0.0</td>\n      <td>...</td>\n      <td>5</td>\n      <td>2767632</td>\n      <td>ATIVO</td>\n      <td>MUNIC</td>\n      <td>Vilhena</td>\n      <td>Rondônia</td>\n      <td>-12.74137</td>\n      <td>-60.13858</td>\n      <td>595.0</td>\n      <td>11518.915</td>\n    </tr>\n    <tr>\n      <th>27024</th>\n      <td>1</td>\n      <td>2752654.0</td>\n      <td>510675</td>\n      <td>1</td>\n      <td>19</td>\n      <td>1.0</td>\n      <td>8 a 11 anos</td>\n      <td>999992.0</td>\n      <td>0.0</td>\n      <td>0.0</td>\n      <td>...</td>\n      <td>5</td>\n      <td>2772678</td>\n      <td>ATIVO</td>\n      <td>MUNIC</td>\n      <td>Chupinguaia</td>\n      <td>Rondônia</td>\n      <td>-12.55684</td>\n      <td>-60.90185</td>\n      <td>340.0</td>\n      <td>5126.723</td>\n    </tr>\n    <tr>\n      <th>27025</th>\n      <td>1</td>\n      <td>9659366.0</td>\n      <td>510787</td>\n      <td>1</td>\n      <td>24</td>\n      <td>2.0</td>\n      <td>8 a 11 anos</td>\n      <td>421125.0</td>\n      <td>0.0</td>\n      <td>1.0</td>\n      <td>...</td>\n      <td>5</td>\n      <td>2776905</td>\n      <td>ATIVO</td>\n      <td>MUNIC</td>\n      <td>Vilhena</td>\n      <td>Rondônia</td>\n      <td>-12.74137</td>\n      <td>-60.13858</td>\n      <td>595.0</td>\n      <td>11518.915</td>\n    </tr>\n    <tr>\n      <th>27026</th>\n      <td>1</td>\n      <td>9659366.0</td>\n      <td>510787</td>\n      <td>1</td>\n      <td>21</td>\n      <td>2.0</td>\n      <td>8 a 11 anos</td>\n      <td>999992.0</td>\n      <td>1.0</td>\n      <td>0.0</td>\n      <td>...</td>\n      <td>5</td>\n      <td>2777105</td>\n      <td>ATIVO</td>\n      <td>MUNIC</td>\n      <td>Vilhena</td>\n      <td>Rondônia</td>\n      <td>-12.74137</td>\n      <td>-60.13858</td>\n      <td>595.0</td>\n      <td>11518.915</td>\n    </tr>\n    <tr>\n      <th>27027</th>\n      <td>1</td>\n      <td>2795655.0</td>\n      <td>510792</td>\n      <td>1</td>\n      <td>18</td>\n      <td>5.0</td>\n      <td>8 a 11 anos</td>\n      <td>999992.0</td>\n      <td>1.0</td>\n      <td>0.0</td>\n      <td>...</td>\n      <td>5</td>\n      <td>2780269</td>\n      <td>ATIVO</td>\n      <td>MUNIC</td>\n      <td>Novo Horizonte do Oeste</td>\n      <td>Rondônia</td>\n      <td>-11.70974</td>\n      <td>-61.99439</td>\n      <td>230.0</td>\n      <td>843.446</td>\n    </tr>\n  </tbody>\n</table>\n<p>27028 rows × 69 columns</p>\n</div>"
     },
     "execution_count": 76,
     "metadata": {},
     "output_type": "execute_result"
    }
   ],
   "source": [
    "# 6) Seu código aqui\n",
    "sinasc['QTDFILVIVO'] = sinasc['QTDFILVIVO'].fillna(0)\n",
    "sinasc"
   ]
  },
  {
   "cell_type": "code",
   "execution_count": 77,
   "metadata": {
    "ExecuteTime": {
     "end_time": "2024-02-13T04:49:36.013042800Z",
     "start_time": "2024-02-13T04:49:35.803350900Z"
    }
   },
   "outputs": [
    {
     "data": {
      "text/plain": "0        normal\n1        normal\n2        normal\n3        normal\n4        normal\n          ...  \n27023    normal\n27024    normal\n27025    normal\n27026    normal\n27027    normal\nName: APGAR5, Length: 27028, dtype: object"
     },
     "execution_count": 77,
     "metadata": {},
     "output_type": "execute_result"
    }
   ],
   "source": [
    "# 7) seu código aqui\n",
    "\n",
    "# range APGAR5\n",
    "\n",
    "np.array(range(0,10))\n",
    "def classificacao(x):\n",
    "    if x >= 8 and x <= 10:\n",
    "        return 'normal'\n",
    "    elif x >= 6 and x <= 7:\n",
    "        return 'asfixia leve'\n",
    "    elif x >= 4 and x <= 5:\n",
    "        return 'asfixia moderada'\n",
    "    else:\n",
    "        return 'asfixia severa'\n",
    "    \n",
    "pd.Series(sinasc['APGAR5'].apply(classificacao))"
   ]
  },
  {
   "cell_type": "code",
   "execution_count": 78,
   "metadata": {
    "ExecuteTime": {
     "end_time": "2024-02-13T04:49:36.016201900Z",
     "start_time": "2024-02-13T04:49:35.855255300Z"
    }
   },
   "outputs": [
    {
     "data": {
      "text/plain": "APGAR5\nnormal              26463\nasfixia leve          320\nasfixia severa        177\nasfixia moderada       68\nName: count, dtype: int64"
     },
     "execution_count": 78,
     "metadata": {},
     "output_type": "execute_result"
    }
   ],
   "source": [
    "# 8) seu código aqui\n",
    "\n",
    "pd.Series(sinasc['APGAR5'].apply(classificacao)).value_counts()"
   ]
  },
  {
   "cell_type": "code",
   "execution_count": 79,
   "metadata": {
    "ExecuteTime": {
     "end_time": "2024-02-13T04:49:36.297551800Z",
     "start_time": "2024-02-13T04:49:35.895172800Z"
    }
   },
   "outputs": [
    {
     "data": {
      "text/plain": "<Axes: xlabel='APGAR5'>"
     },
     "execution_count": 79,
     "metadata": {},
     "output_type": "execute_result"
    },
    {
     "data": {
      "text/plain": "<Figure size 640x480 with 1 Axes>",
      "image/png": "[encoded data removed]"
     },
     "metadata": {},
     "output_type": "display_data"
    }
   ],
   "source": [
    "# 9) seu código aqui\n",
    "\n",
    "pd.Series(sinasc['APGAR5'].apply(classificacao)).value_counts().plot.bar()"
   ]
  }
 ],
 "metadata": {
  "kernelspec": {
   "display_name": "Python 3",
   "language": "python",
   "name": "python3"
  },
  "language_info": {
   "codemirror_mode": {
    "name": "ipython",
    "version": 3
   },
   "file_extension": ".py",
   "mimetype": "text/x-python",
   "name": "python",
   "nbconvert_exporter": "python",
   "pygments_lexer": "ipython3",
   "version": "3.8.5"
  }
 },
 "nbformat": 4,
 "nbformat_minor": 4
}
