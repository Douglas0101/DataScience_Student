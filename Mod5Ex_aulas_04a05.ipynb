{
 "cells": [
  {
   "cell_type": "markdown",
   "metadata": {},
   "source": [
    "# Tarefa 02 Módulo 05\n",
    "\n",
    "O nosso projeto desta sequência de módulos do curso será um aprofundamento da demonstração sobre classificação de risco de crédito que vimos lá no comecinho. Pois recebemos uma base já montada pra nós. Tenha certeza de que ela passou por um longo processamento até ficar daquele jeito. Neste exercício vamos exercitar o que aprendemos nas ultimas aulas e montar a variável resposta da base do nosso projeto.\n",
    "\n",
    "#### Marcação de bom e mau\n",
    "O objetivo da modelagem é classificar o risco de inadimplência, ou como se diz no meio, o risco de *default*. Podemos fazer longas discussões sobre o conceito de *default* com base em estudos e exigências regulatórias, para efeitos deste estudo, um cliente em *default* é aquele que está em 60 dias de atraso ou mais. Então classificaremos os clientes como 'bons' e 'maus' assim:\n",
    "- **Maus** pagadores: são aqueles que entraram em 'default' (atraso 60 dias ou mais) nos 24 meses seguintes à aquisição do cartão de crédito. \n",
    "- **Bons** pagadores: são considerados todos os demais.\n",
    "- **Excluídos**: Clientes que não adquiriram um cartão de crédito (seja por recusa, seja por desistência) não possuem informações de pagamento, portanto não se pode identificar se são bons ou maus. Há uma longa discussão e literatura sobre *inferência de rejeitados* que está fora do escopo deste exercício.\n",
    "\n",
    "#### Bases disponíveis\n",
    "Temos duas bases importantes aqui: uma de propostas, com diversas informações dos vários solicitantes de cartão de crédito, e uma base de pagamentos. A base de pagamentos será utilizada para identificar a ocorrência de *default*. A base de propostas tem diversas informações coletadas no momento da solicitação do crédito (isto é importante: qualquer informação posterior a essa data é impossível de ser coletada na aplicação do modelo e não pode ser utilizada).ssada\n",
    "\n",
    "As variáveis delas são:\n",
    "\n",
    "Base de propostas - application_records.csv\n",
    "\n",
    "| Nome da Variável         | Description                                         | Tipo  |\n",
    "| ------------------------ |:---------------------------------------------------:| -----:|\n",
    "| ID| identificador do cliente (chave) |inteiro|\n",
    "| CODE_GENDER| M = 'Masculino'; F = 'Feminino' |M/F|\n",
    "| FLAG_OWN_CAR| Y = 'possui'; N = 'não possui' |Y/N|\n",
    "| FLAG_OWN_REALTY| Y = 'possui'; N = 'não possui' |Y/N|\n",
    "| CNT_CHILDREN| Quantidade de filhos |inteiro|\n",
    "| AMT_INCOME_TOTAL| Annual income |inteiro|\n",
    "| NAME_INCOME_TYPE|Tipo de renda (ex: assaliariado, autônomo etc) | texto |\n",
    "| NAME_EDUCATION_TYPE| Nível de educação (ex: secundário, superior etc) |texto|\n",
    "| NAME_FAMILY_STATUS | Estado civil (ex: solteiro, casado etc)| texto |\n",
    "| NAME_HOUSING_TYPE | tipo de residência (ex: casa/apartamento, com os pais etc) | texto |\n",
    "| DAYS_BIRTH | Count backwards from current day (0), -1 means yesterday |inteiro|\n",
    "| DAYS_EMPLOYED | Count backwards from current day (0), -1 means yesterday |inteiro|\n",
    "| FLAG_MOBIL | Indica se possui celular (1 = sim, 0 = não) |binária|\n",
    "| FLAG_WORK_PHONE | Indica se possui telefone comercial (1 = sim, 0 = não) |binária|\n",
    "| FLAG_PHONE | Indica se possui telefone (1 = sim, 0 = não) |binária|\n",
    "| FLAG_EMAIL | Indica se possui e-mail (1 = sim, 0 = não) |binária|\n",
    "| OCCUPATION_TYPE | Occupation\t |Qualitativa|\n",
    "| CNT_FAM_MEMBERS | quantidade de pessoas na residência |inteiro|\n",
    "\n",
    "Base de pagamentos - pagamentos_largo.csv  \n",
    "\n",
    "| Nome da Variável         | Description                                         | Tipo  |\n",
    "| ------------------------ |:---------------------------------------------------:| -----:|\n",
    "| ID| identificador do cliente (chave) |inteiro|\n",
    "| mes_00 a mes_24| faixa de atraso mês a mês do cliente <br>0: 1-29 days past due &nbsp;&nbsp;&nbsp;&nbsp; 1: 30-59 days past due <br />2: 60-89 days overdue &nbsp;&nbsp;&nbsp;&nbsp; 3: 90-119 days overdue <br /> 4: 120-149 days overdue &nbsp;&nbsp;&nbsp;&nbsp; 5: more than 150 days <br />C: paid off that month &nbsp;&nbsp;&nbsp;&nbsp; X: No loan for the month |Qualitativa|\n",
    "\n",
    "#### Construindo a variável resposta\n",
    "A base de pagamentos está em um formato de 'base larga'. Essa base possui informações de pagamentos do cliente mês a mês a partir do mês de aquisição do crédito (mês 0) até o vigésimo quarto mês após a aquisição do crédito (mês 24). Utilizaremos essa base para determinar se um proponente é considerado 'bom pagador' ou caso apresente atraso representativo, será considerado 'mau pagador'.\n",
    "\n",
    "#### Base larga vs base longa\n",
    "A base ser larga significa que há uma linha para cada cliente, e que as informações estarão nas colunas, em contraste com a 'base longa', em que haveria uma linha para cada combinação cliente/mês, uma coluna indicando o cliente, outra indicando o mês, e apenas uma coluna com a informação do atraso.\n",
    "\n",
    "#### Tarefa 1) Marcar *default* no mês\n",
    "Faça uma indicadora de se o cliente está em *default* em cada uma das marcações (mes_00 a mes_24). Dica: você pode utilizar o método ```.isin()``` do Pandas. Consulte a [documentação](https://pandas.pydata.org/pandas-docs/stable/reference/api/pandas.DataFrame.isin.html) caso necessário.\n",
    "\n",
    "#### Tarefa 2) 'bons' e 'maus' ao longo de todos os 24 meses de desempenho\n",
    "Marque para cada cliente se ele teve pelo menos um episódio de *default* entre o mês 0 e o mês 24. Dica: o método ```sum()``` pode ajudar. Caso precise, consulte a [documentação](https://pandas.pydata.org/docs/reference/api/pandas.DataFrame.sum.html) e procure pelo argumento ```axis```, você viu outros métodos que possuem esse argumento também. Tendo o número de meses em default de cada cliente, basta marcar ```True``` para todos aqueles que possuem pelo menos 1 mês em *default* e ```False``` para os demais.\n",
    "\n",
    "#### Tarefa 3) Marcando proponentes expostos ao risco de crédito\n",
    "Marcando proponentes que se tornaram tomadores: lembre-se de que clientes que não adquiriram o cartão devem ser desconsiderados. A base de pagamentos possui apenas clientes que adquiriram cartão de crédito, então você pode selecionar somente os clientes da base de propostas que se encontram na base de pagamentos.\n",
    "\n",
    "#### Tarefa 4) Consolidando as informações\n",
    "Faça uma junção das informações da base de propostas com a variável de *default* que você acabou de construir. Talvez você consiga realizar a tarefa 3 e tarefa 4 em uma única linha de código ;)\n",
    "\n",
    "#### Tarefa 5) Verificando\n",
    "Faça uma contagem dos valores do *default* que você construiu. "
   ]
  },
  {
   "cell_type": "code",
   "execution_count": 447,
   "metadata": {
    "ExecuteTime": {
     "end_time": "2024-02-22T03:37:33.119741300Z",
     "start_time": "2024-02-22T03:37:33.107085300Z"
    }
   },
   "outputs": [],
   "source": [
    "import pandas as pd"
   ]
  },
  {
   "cell_type": "code",
   "execution_count": 448,
   "metadata": {
    "ExecuteTime": {
     "end_time": "2024-02-22T03:37:34.567330100Z",
     "start_time": "2024-02-22T03:37:33.126555300Z"
    }
   },
   "outputs": [],
   "source": [
    "pp = pd.read_csv('application_record.csv')\n",
    "pg = pd.read_csv('pagamentos_largo.csv')\n",
    "\n",
    "pg = pg.sort_values(by='ID').reset_index(drop=True)\n",
    "pg.fillna(0, inplace=True)\n",
    "\n",
    "pp = pp.sort_values(by='ID').reset_index(drop=True)\n",
    "pp.fillna('Uninformed', inplace=True)"
   ]
  },
  {
   "cell_type": "code",
   "outputs": [
    {
     "data": {
      "text/plain": "            ID mes_0 mes_1 mes_10 mes_11 mes_12 mes_13 mes_14 mes_15 mes_16  \\\n0      5001718     0     0      0      0      0      0      0      0      0   \n1      5001719     0     0      C      C      C      C      C      C      C   \n2      5001720     0     0      0      0      0      0      0      0      0   \n3      5001723     0     0      0      0      0      0      0      0      0   \n4      5001726     0     0      C      C      C      C      C      C      C   \n...        ...   ...   ...    ...    ...    ...    ...    ...    ...    ...   \n20932  5150475     C     C      C      C      C      C      C      C      C   \n20933  5150476     0     0      0      0      0      0      0      0      0   \n20934  5150480     0     0      C      C      C      C      C      C      C   \n20935  5150482     0     0      0      0      C      C      C      C      C   \n20936  5150487     C     C      C      C      C      C      C      C      C   \n\n       ... mes_22 mes_23 mes_24 mes_3 mes_4 mes_5 mes_6 mes_7 mes_8 mes_9  \n0      ...      0      0      0     0     0     0     0     0     0     0  \n1      ...      C      C      C     C     C     C     C     C     C     C  \n2      ...      1      0      0     0     0     0     0     0     0     0  \n3      ...      0      0      0     0     0     0     0     0     0     0  \n4      ...      C      C      C     0     0     0     C     C     C     C  \n...    ...    ...    ...    ...   ...   ...   ...   ...   ...   ...   ...  \n20932  ...      C      C      C     C     C     C     C     C     C     C  \n20933  ...      0      0      0     0     0     0     0     0     0     0  \n20934  ...      C      C      C     0     0     0     C     C     C     C  \n20935  ...      0      0      0     0     0     0     0     0     0     0  \n20936  ...      C      C      C     C     C     C     C     C     C     C  \n\n[20937 rows x 26 columns]",
      "text/html": "<div>\n<style scoped>\n    .dataframe tbody tr th:only-of-type {\n        vertical-align: middle;\n    }\n\n    .dataframe tbody tr th {\n        vertical-align: top;\n    }\n\n    .dataframe thead th {\n        text-align: right;\n    }\n</style>\n<table border=\"1\" class=\"dataframe\">\n  <thead>\n    <tr style=\"text-align: right;\">\n      <th></th>\n      <th>ID</th>\n      <th>mes_0</th>\n      <th>mes_1</th>\n      <th>mes_10</th>\n      <th>mes_11</th>\n      <th>mes_12</th>\n      <th>mes_13</th>\n      <th>mes_14</th>\n      <th>mes_15</th>\n      <th>mes_16</th>\n      <th>...</th>\n      <th>mes_22</th>\n      <th>mes_23</th>\n      <th>mes_24</th>\n      <th>mes_3</th>\n      <th>mes_4</th>\n      <th>mes_5</th>\n      <th>mes_6</th>\n      <th>mes_7</th>\n      <th>mes_8</th>\n      <th>mes_9</th>\n    </tr>\n  </thead>\n  <tbody>\n    <tr>\n      <th>0</th>\n      <td>5001718</td>\n      <td>0</td>\n      <td>0</td>\n      <td>0</td>\n      <td>0</td>\n      <td>0</td>\n      <td>0</td>\n      <td>0</td>\n      <td>0</td>\n      <td>0</td>\n      <td>...</td>\n      <td>0</td>\n      <td>0</td>\n      <td>0</td>\n      <td>0</td>\n      <td>0</td>\n      <td>0</td>\n      <td>0</td>\n      <td>0</td>\n      <td>0</td>\n      <td>0</td>\n    </tr>\n    <tr>\n      <th>1</th>\n      <td>5001719</td>\n      <td>0</td>\n      <td>0</td>\n      <td>C</td>\n      <td>C</td>\n      <td>C</td>\n      <td>C</td>\n      <td>C</td>\n      <td>C</td>\n      <td>C</td>\n      <td>...</td>\n      <td>C</td>\n      <td>C</td>\n      <td>C</td>\n      <td>C</td>\n      <td>C</td>\n      <td>C</td>\n      <td>C</td>\n      <td>C</td>\n      <td>C</td>\n      <td>C</td>\n    </tr>\n    <tr>\n      <th>2</th>\n      <td>5001720</td>\n      <td>0</td>\n      <td>0</td>\n      <td>0</td>\n      <td>0</td>\n      <td>0</td>\n      <td>0</td>\n      <td>0</td>\n      <td>0</td>\n      <td>0</td>\n      <td>...</td>\n      <td>1</td>\n      <td>0</td>\n      <td>0</td>\n      <td>0</td>\n      <td>0</td>\n      <td>0</td>\n      <td>0</td>\n      <td>0</td>\n      <td>0</td>\n      <td>0</td>\n    </tr>\n    <tr>\n      <th>3</th>\n      <td>5001723</td>\n      <td>0</td>\n      <td>0</td>\n      <td>0</td>\n      <td>0</td>\n      <td>0</td>\n      <td>0</td>\n      <td>0</td>\n      <td>0</td>\n      <td>0</td>\n      <td>...</td>\n      <td>0</td>\n      <td>0</td>\n      <td>0</td>\n      <td>0</td>\n      <td>0</td>\n      <td>0</td>\n      <td>0</td>\n      <td>0</td>\n      <td>0</td>\n      <td>0</td>\n    </tr>\n    <tr>\n      <th>4</th>\n      <td>5001726</td>\n      <td>0</td>\n      <td>0</td>\n      <td>C</td>\n      <td>C</td>\n      <td>C</td>\n      <td>C</td>\n      <td>C</td>\n      <td>C</td>\n      <td>C</td>\n      <td>...</td>\n      <td>C</td>\n      <td>C</td>\n      <td>C</td>\n      <td>0</td>\n      <td>0</td>\n      <td>0</td>\n      <td>C</td>\n      <td>C</td>\n      <td>C</td>\n      <td>C</td>\n    </tr>\n    <tr>\n      <th>...</th>\n      <td>...</td>\n      <td>...</td>\n      <td>...</td>\n      <td>...</td>\n      <td>...</td>\n      <td>...</td>\n      <td>...</td>\n      <td>...</td>\n      <td>...</td>\n      <td>...</td>\n      <td>...</td>\n      <td>...</td>\n      <td>...</td>\n      <td>...</td>\n      <td>...</td>\n      <td>...</td>\n      <td>...</td>\n      <td>...</td>\n      <td>...</td>\n      <td>...</td>\n      <td>...</td>\n    </tr>\n    <tr>\n      <th>20932</th>\n      <td>5150475</td>\n      <td>C</td>\n      <td>C</td>\n      <td>C</td>\n      <td>C</td>\n      <td>C</td>\n      <td>C</td>\n      <td>C</td>\n      <td>C</td>\n      <td>C</td>\n      <td>...</td>\n      <td>C</td>\n      <td>C</td>\n      <td>C</td>\n      <td>C</td>\n      <td>C</td>\n      <td>C</td>\n      <td>C</td>\n      <td>C</td>\n      <td>C</td>\n      <td>C</td>\n    </tr>\n    <tr>\n      <th>20933</th>\n      <td>5150476</td>\n      <td>0</td>\n      <td>0</td>\n      <td>0</td>\n      <td>0</td>\n      <td>0</td>\n      <td>0</td>\n      <td>0</td>\n      <td>0</td>\n      <td>0</td>\n      <td>...</td>\n      <td>0</td>\n      <td>0</td>\n      <td>0</td>\n      <td>0</td>\n      <td>0</td>\n      <td>0</td>\n      <td>0</td>\n      <td>0</td>\n      <td>0</td>\n      <td>0</td>\n    </tr>\n    <tr>\n      <th>20934</th>\n      <td>5150480</td>\n      <td>0</td>\n      <td>0</td>\n      <td>C</td>\n      <td>C</td>\n      <td>C</td>\n      <td>C</td>\n      <td>C</td>\n      <td>C</td>\n      <td>C</td>\n      <td>...</td>\n      <td>C</td>\n      <td>C</td>\n      <td>C</td>\n      <td>0</td>\n      <td>0</td>\n      <td>0</td>\n      <td>C</td>\n      <td>C</td>\n      <td>C</td>\n      <td>C</td>\n    </tr>\n    <tr>\n      <th>20935</th>\n      <td>5150482</td>\n      <td>0</td>\n      <td>0</td>\n      <td>0</td>\n      <td>0</td>\n      <td>C</td>\n      <td>C</td>\n      <td>C</td>\n      <td>C</td>\n      <td>C</td>\n      <td>...</td>\n      <td>0</td>\n      <td>0</td>\n      <td>0</td>\n      <td>0</td>\n      <td>0</td>\n      <td>0</td>\n      <td>0</td>\n      <td>0</td>\n      <td>0</td>\n      <td>0</td>\n    </tr>\n    <tr>\n      <th>20936</th>\n      <td>5150487</td>\n      <td>C</td>\n      <td>C</td>\n      <td>C</td>\n      <td>C</td>\n      <td>C</td>\n      <td>C</td>\n      <td>C</td>\n      <td>C</td>\n      <td>C</td>\n      <td>...</td>\n      <td>C</td>\n      <td>C</td>\n      <td>C</td>\n      <td>C</td>\n      <td>C</td>\n      <td>C</td>\n      <td>C</td>\n      <td>C</td>\n      <td>C</td>\n      <td>C</td>\n    </tr>\n  </tbody>\n</table>\n<p>20937 rows × 26 columns</p>\n</div>"
     },
     "execution_count": 449,
     "metadata": {},
     "output_type": "execute_result"
    }
   ],
   "source": [
    "pg"
   ],
   "metadata": {
    "collapsed": false,
    "ExecuteTime": {
     "end_time": "2024-02-22T03:37:34.616763700Z",
     "start_time": "2024-02-22T03:37:34.569903400Z"
    }
   },
   "execution_count": 449
  },
  {
   "cell_type": "code",
   "outputs": [
    {
     "data": {
      "text/plain": "             ID CODE_GENDER FLAG_OWN_CAR FLAG_OWN_REALTY  CNT_CHILDREN  \\\n0       5008804           M            Y               Y             0   \n1       5008805           M            Y               Y             0   \n2       5008806           M            Y               Y             0   \n3       5008808           F            N               Y             0   \n4       5008809           F            N               Y             0   \n...         ...         ...          ...             ...           ...   \n438552  7999660           F            N               N             0   \n438553  7999696           F            N               Y             2   \n438554  7999738           M            N               Y             0   \n438555  7999784           F            Y               Y             1   \n438556  7999952           F            N               Y             1   \n\n        AMT_INCOME_TOTAL      NAME_INCOME_TYPE            NAME_EDUCATION_TYPE  \\\n0               427500.0               Working               Higher education   \n1               427500.0               Working               Higher education   \n2               112500.0               Working  Secondary / secondary special   \n3               270000.0  Commercial associate  Secondary / secondary special   \n4               270000.0  Commercial associate  Secondary / secondary special   \n...                  ...                   ...                            ...   \n438552           90000.0         State servant               Higher education   \n438553          135000.0         State servant  Secondary / secondary special   \n438554          180000.0               Working  Secondary / secondary special   \n438555          180000.0  Commercial associate  Secondary / secondary special   \n438556          157500.0         State servant               Higher education   \n\n          NAME_FAMILY_STATUS  NAME_HOUSING_TYPE  DAYS_BIRTH  DAYS_EMPLOYED  \\\n0             Civil marriage   Rented apartment      -12005          -4542   \n1             Civil marriage   Rented apartment      -12005          -4542   \n2                    Married  House / apartment      -21474          -1134   \n3       Single / not married  House / apartment      -19110          -3051   \n4       Single / not married  House / apartment      -19110          -3051   \n...                      ...                ...         ...            ...   \n438552  Single / not married  House / apartment      -13432          -5446   \n438553               Married  House / apartment      -12576          -4382   \n438554               Married  House / apartment       -9970           -119   \n438555               Married  House / apartment      -10630           -454   \n438556               Married  House / apartment      -15859          -3679   \n\n        FLAG_MOBIL  FLAG_WORK_PHONE  FLAG_PHONE  FLAG_EMAIL OCCUPATION_TYPE  \\\n0                1                1           0           0      Uninformed   \n1                1                1           0           0      Uninformed   \n2                1                0           0           0  Security staff   \n3                1                0           1           1     Sales staff   \n4                1                0           1           1     Sales staff   \n...            ...              ...         ...         ...             ...   \n438552           1                0           0           0      Core staff   \n438553           1                0           0           0  Medicine staff   \n438554           1                0           0           0      Uninformed   \n438555           1                0           0           0      Uninformed   \n438556           1                0           0           0      Core staff   \n\n        CNT_FAM_MEMBERS  \n0                   2.0  \n1                   2.0  \n2                   2.0  \n3                   1.0  \n4                   1.0  \n...                 ...  \n438552              1.0  \n438553              4.0  \n438554              2.0  \n438555              3.0  \n438556              3.0  \n\n[438557 rows x 18 columns]",
      "text/html": "<div>\n<style scoped>\n    .dataframe tbody tr th:only-of-type {\n        vertical-align: middle;\n    }\n\n    .dataframe tbody tr th {\n        vertical-align: top;\n    }\n\n    .dataframe thead th {\n        text-align: right;\n    }\n</style>\n<table border=\"1\" class=\"dataframe\">\n  <thead>\n    <tr style=\"text-align: right;\">\n      <th></th>\n      <th>ID</th>\n      <th>CODE_GENDER</th>\n      <th>FLAG_OWN_CAR</th>\n      <th>FLAG_OWN_REALTY</th>\n      <th>CNT_CHILDREN</th>\n      <th>AMT_INCOME_TOTAL</th>\n      <th>NAME_INCOME_TYPE</th>\n      <th>NAME_EDUCATION_TYPE</th>\n      <th>NAME_FAMILY_STATUS</th>\n      <th>NAME_HOUSING_TYPE</th>\n      <th>DAYS_BIRTH</th>\n      <th>DAYS_EMPLOYED</th>\n      <th>FLAG_MOBIL</th>\n      <th>FLAG_WORK_PHONE</th>\n      <th>FLAG_PHONE</th>\n      <th>FLAG_EMAIL</th>\n      <th>OCCUPATION_TYPE</th>\n      <th>CNT_FAM_MEMBERS</th>\n    </tr>\n  </thead>\n  <tbody>\n    <tr>\n      <th>0</th>\n      <td>5008804</td>\n      <td>M</td>\n      <td>Y</td>\n      <td>Y</td>\n      <td>0</td>\n      <td>427500.0</td>\n      <td>Working</td>\n      <td>Higher education</td>\n      <td>Civil marriage</td>\n      <td>Rented apartment</td>\n      <td>-12005</td>\n      <td>-4542</td>\n      <td>1</td>\n      <td>1</td>\n      <td>0</td>\n      <td>0</td>\n      <td>Uninformed</td>\n      <td>2.0</td>\n    </tr>\n    <tr>\n      <th>1</th>\n      <td>5008805</td>\n      <td>M</td>\n      <td>Y</td>\n      <td>Y</td>\n      <td>0</td>\n      <td>427500.0</td>\n      <td>Working</td>\n      <td>Higher education</td>\n      <td>Civil marriage</td>\n      <td>Rented apartment</td>\n      <td>-12005</td>\n      <td>-4542</td>\n      <td>1</td>\n      <td>1</td>\n      <td>0</td>\n      <td>0</td>\n      <td>Uninformed</td>\n      <td>2.0</td>\n    </tr>\n    <tr>\n      <th>2</th>\n      <td>5008806</td>\n      <td>M</td>\n      <td>Y</td>\n      <td>Y</td>\n      <td>0</td>\n      <td>112500.0</td>\n      <td>Working</td>\n      <td>Secondary / secondary special</td>\n      <td>Married</td>\n      <td>House / apartment</td>\n      <td>-21474</td>\n      <td>-1134</td>\n      <td>1</td>\n      <td>0</td>\n      <td>0</td>\n      <td>0</td>\n      <td>Security staff</td>\n      <td>2.0</td>\n    </tr>\n    <tr>\n      <th>3</th>\n      <td>5008808</td>\n      <td>F</td>\n      <td>N</td>\n      <td>Y</td>\n      <td>0</td>\n      <td>270000.0</td>\n      <td>Commercial associate</td>\n      <td>Secondary / secondary special</td>\n      <td>Single / not married</td>\n      <td>House / apartment</td>\n      <td>-19110</td>\n      <td>-3051</td>\n      <td>1</td>\n      <td>0</td>\n      <td>1</td>\n      <td>1</td>\n      <td>Sales staff</td>\n      <td>1.0</td>\n    </tr>\n    <tr>\n      <th>4</th>\n      <td>5008809</td>\n      <td>F</td>\n      <td>N</td>\n      <td>Y</td>\n      <td>0</td>\n      <td>270000.0</td>\n      <td>Commercial associate</td>\n      <td>Secondary / secondary special</td>\n      <td>Single / not married</td>\n      <td>House / apartment</td>\n      <td>-19110</td>\n      <td>-3051</td>\n      <td>1</td>\n      <td>0</td>\n      <td>1</td>\n      <td>1</td>\n      <td>Sales staff</td>\n      <td>1.0</td>\n    </tr>\n    <tr>\n      <th>...</th>\n      <td>...</td>\n      <td>...</td>\n      <td>...</td>\n      <td>...</td>\n      <td>...</td>\n      <td>...</td>\n      <td>...</td>\n      <td>...</td>\n      <td>...</td>\n      <td>...</td>\n      <td>...</td>\n      <td>...</td>\n      <td>...</td>\n      <td>...</td>\n      <td>...</td>\n      <td>...</td>\n      <td>...</td>\n      <td>...</td>\n    </tr>\n    <tr>\n      <th>438552</th>\n      <td>7999660</td>\n      <td>F</td>\n      <td>N</td>\n      <td>N</td>\n      <td>0</td>\n      <td>90000.0</td>\n      <td>State servant</td>\n      <td>Higher education</td>\n      <td>Single / not married</td>\n      <td>House / apartment</td>\n      <td>-13432</td>\n      <td>-5446</td>\n      <td>1</td>\n      <td>0</td>\n      <td>0</td>\n      <td>0</td>\n      <td>Core staff</td>\n      <td>1.0</td>\n    </tr>\n    <tr>\n      <th>438553</th>\n      <td>7999696</td>\n      <td>F</td>\n      <td>N</td>\n      <td>Y</td>\n      <td>2</td>\n      <td>135000.0</td>\n      <td>State servant</td>\n      <td>Secondary / secondary special</td>\n      <td>Married</td>\n      <td>House / apartment</td>\n      <td>-12576</td>\n      <td>-4382</td>\n      <td>1</td>\n      <td>0</td>\n      <td>0</td>\n      <td>0</td>\n      <td>Medicine staff</td>\n      <td>4.0</td>\n    </tr>\n    <tr>\n      <th>438554</th>\n      <td>7999738</td>\n      <td>M</td>\n      <td>N</td>\n      <td>Y</td>\n      <td>0</td>\n      <td>180000.0</td>\n      <td>Working</td>\n      <td>Secondary / secondary special</td>\n      <td>Married</td>\n      <td>House / apartment</td>\n      <td>-9970</td>\n      <td>-119</td>\n      <td>1</td>\n      <td>0</td>\n      <td>0</td>\n      <td>0</td>\n      <td>Uninformed</td>\n      <td>2.0</td>\n    </tr>\n    <tr>\n      <th>438555</th>\n      <td>7999784</td>\n      <td>F</td>\n      <td>Y</td>\n      <td>Y</td>\n      <td>1</td>\n      <td>180000.0</td>\n      <td>Commercial associate</td>\n      <td>Secondary / secondary special</td>\n      <td>Married</td>\n      <td>House / apartment</td>\n      <td>-10630</td>\n      <td>-454</td>\n      <td>1</td>\n      <td>0</td>\n      <td>0</td>\n      <td>0</td>\n      <td>Uninformed</td>\n      <td>3.0</td>\n    </tr>\n    <tr>\n      <th>438556</th>\n      <td>7999952</td>\n      <td>F</td>\n      <td>N</td>\n      <td>Y</td>\n      <td>1</td>\n      <td>157500.0</td>\n      <td>State servant</td>\n      <td>Higher education</td>\n      <td>Married</td>\n      <td>House / apartment</td>\n      <td>-15859</td>\n      <td>-3679</td>\n      <td>1</td>\n      <td>0</td>\n      <td>0</td>\n      <td>0</td>\n      <td>Core staff</td>\n      <td>3.0</td>\n    </tr>\n  </tbody>\n</table>\n<p>438557 rows × 18 columns</p>\n</div>"
     },
     "execution_count": 450,
     "metadata": {},
     "output_type": "execute_result"
    }
   ],
   "source": [
    "pp"
   ],
   "metadata": {
    "collapsed": false,
    "ExecuteTime": {
     "end_time": "2024-02-22T03:37:34.673083600Z",
     "start_time": "2024-02-22T03:37:34.613424700Z"
    }
   },
   "execution_count": 450
  },
  {
   "cell_type": "code",
   "execution_count": 451,
   "metadata": {
    "ExecuteTime": {
     "end_time": "2024-02-22T03:37:34.755165Z",
     "start_time": "2024-02-22T03:37:34.645935200Z"
    }
   },
   "outputs": [
    {
     "data": {
      "text/plain": "default\nFalse    12267\nTrue      8670\nName: count, dtype: int64"
     },
     "execution_count": 451,
     "metadata": {},
     "output_type": "execute_result"
    }
   ],
   "source": [
    "# 0) Seu código aqui\n",
    "\n",
    "# Lista de nomes das colunas que você deseja verificar\n",
    "colunas = ['mes_0', 'mes_1', 'mes_2', 'mes_3', 'mes_4', 'mes_5', 'mes_6', 'mes_7', 'mes_8', 'mes_9', 'mes_10', 'mes_11', 'mes_12', 'mes_13', 'mes_14', 'mes_15', 'mes_16', 'mes_17', 'mes_18', 'mes_19', 'mes_20', 'mes_21', 'mes_22', 'mes_23', 'mes_24']\n",
    "\n",
    "# Inicializa a coluna 'default' com False\n",
    "pg['default'] = False\n",
    "\n",
    "# Aplica a lógica de substituição de NaNs para cada coluna na lista\n",
    "for col in colunas:\n",
    "    pg['default'] = pg['default'] | pg[col].isin([0,  1]).fillna(False).astype(int)\n",
    "\n",
    "# Conta os valores na coluna 'default'\n",
    "pg.default.value_counts()"
   ]
  },
  {
   "cell_type": "code",
   "execution_count": 452,
   "metadata": {
    "ExecuteTime": {
     "end_time": "2024-02-22T03:37:34.888342Z",
     "start_time": "2024-02-22T03:37:34.685254600Z"
    }
   },
   "outputs": [
    {
     "data": {
      "text/plain": "classificacao_pagador\nBom pagador    12267\nMau pagador     8670\nName: count, dtype: int64"
     },
     "execution_count": 452,
     "metadata": {},
     "output_type": "execute_result"
    }
   ],
   "source": [
    "# 1) Seu código aqui\n",
    "\n",
    "def classificacao_pagador(row):\n",
    "    if row['default'] == 1:\n",
    "        return 'Mau pagador'\n",
    "    else:\n",
    "        return 'Bom pagador'\n",
    "    \n",
    "pg['classificacao_pagador'] = pg.apply(classificacao_pagador, axis=1)\n",
    "pg.classificacao_pagador.value_counts()"
   ]
  },
  {
   "cell_type": "code",
   "execution_count": 453,
   "metadata": {
    "ExecuteTime": {
     "end_time": "2024-02-22T03:37:34.964152300Z",
     "start_time": "2024-02-22T03:37:34.816717800Z"
    }
   },
   "outputs": [
    {
     "data": {
      "text/plain": "exposicao_risco\nNão exposição    12267\nExposição         8670\nName: count, dtype: int64"
     },
     "execution_count": 453,
     "metadata": {},
     "output_type": "execute_result"
    }
   ],
   "source": [
    "# 2) Seu código aqui\n",
    "\n",
    "def exposicao_risco(row):\n",
    "    if row['classificacao_pagador'] == 'Mau pagador':\n",
    "        return 'Exposição'\n",
    "    else:\n",
    "        return 'Não exposição'\n",
    "    \n",
    "pg['exposicao_risco'] = pg.apply(exposicao_risco, axis=1)\n",
    "pg.exposicao_risco.value_counts()"
   ]
  },
  {
   "cell_type": "code",
   "execution_count": 454,
   "metadata": {
    "ExecuteTime": {
     "end_time": "2024-02-22T03:37:34.985492400Z",
     "start_time": "2024-02-22T03:37:34.960005200Z"
    }
   },
   "outputs": [
    {
     "name": "stderr",
     "output_type": "stream",
     "text": [
      "C:\\Users\\dougl\\AppData\\Local\\Temp\\ipykernel_6076\\2436693607.py:3: UserWarning: Pandas doesn't allow columns to be created via a new attribute name - see https://pandas.pydata.org/pandas-docs/stable/indexing.html#attribute-access\n",
      "  pg.informacoes = pg.loc[:, ['default', 'classificacao_pagador', 'exposicao_risco']]\n"
     ]
    },
    {
     "data": {
      "text/plain": "       default classificacao_pagador exposicao_risco\n0         True           Mau pagador       Exposição\n1        False           Bom pagador   Não exposição\n2        False           Bom pagador   Não exposição\n3         True           Mau pagador       Exposição\n4        False           Bom pagador   Não exposição\n...        ...                   ...             ...\n20932    False           Bom pagador   Não exposição\n20933     True           Mau pagador       Exposição\n20934    False           Bom pagador   Não exposição\n20935     True           Mau pagador       Exposição\n20936    False           Bom pagador   Não exposição\n\n[20937 rows x 3 columns]",
      "text/html": "<div>\n<style scoped>\n    .dataframe tbody tr th:only-of-type {\n        vertical-align: middle;\n    }\n\n    .dataframe tbody tr th {\n        vertical-align: top;\n    }\n\n    .dataframe thead th {\n        text-align: right;\n    }\n</style>\n<table border=\"1\" class=\"dataframe\">\n  <thead>\n    <tr style=\"text-align: right;\">\n      <th></th>\n      <th>default</th>\n      <th>classificacao_pagador</th>\n      <th>exposicao_risco</th>\n    </tr>\n  </thead>\n  <tbody>\n    <tr>\n      <th>0</th>\n      <td>True</td>\n      <td>Mau pagador</td>\n      <td>Exposição</td>\n    </tr>\n    <tr>\n      <th>1</th>\n      <td>False</td>\n      <td>Bom pagador</td>\n      <td>Não exposição</td>\n    </tr>\n    <tr>\n      <th>2</th>\n      <td>False</td>\n      <td>Bom pagador</td>\n      <td>Não exposição</td>\n    </tr>\n    <tr>\n      <th>3</th>\n      <td>True</td>\n      <td>Mau pagador</td>\n      <td>Exposição</td>\n    </tr>\n    <tr>\n      <th>4</th>\n      <td>False</td>\n      <td>Bom pagador</td>\n      <td>Não exposição</td>\n    </tr>\n    <tr>\n      <th>...</th>\n      <td>...</td>\n      <td>...</td>\n      <td>...</td>\n    </tr>\n    <tr>\n      <th>20932</th>\n      <td>False</td>\n      <td>Bom pagador</td>\n      <td>Não exposição</td>\n    </tr>\n    <tr>\n      <th>20933</th>\n      <td>True</td>\n      <td>Mau pagador</td>\n      <td>Exposição</td>\n    </tr>\n    <tr>\n      <th>20934</th>\n      <td>False</td>\n      <td>Bom pagador</td>\n      <td>Não exposição</td>\n    </tr>\n    <tr>\n      <th>20935</th>\n      <td>True</td>\n      <td>Mau pagador</td>\n      <td>Exposição</td>\n    </tr>\n    <tr>\n      <th>20936</th>\n      <td>False</td>\n      <td>Bom pagador</td>\n      <td>Não exposição</td>\n    </tr>\n  </tbody>\n</table>\n<p>20937 rows × 3 columns</p>\n</div>"
     },
     "execution_count": 454,
     "metadata": {},
     "output_type": "execute_result"
    }
   ],
   "source": [
    "# 3) Seu código aqui\n",
    "\n",
    "pg.informacoes = pg.loc[:, ['default', 'classificacao_pagador', 'exposicao_risco']]\n",
    "pd.DataFrame(pg.informacoes)"
   ]
  },
  {
   "cell_type": "code",
   "outputs": [
    {
     "data": {
      "text/plain": "default  classificacao_pagador  exposicao_risco\nFalse    Bom pagador            Não exposição      12267\nTrue     Mau pagador            Exposição           8670\nName: count, dtype: int64"
     },
     "execution_count": 455,
     "metadata": {},
     "output_type": "execute_result"
    }
   ],
   "source": [
    "# 4) eu código aqui\n",
    "\n",
    "pd.DataFrame(pg.informacoes.value_counts()).T\n",
    "pg.informacoes.value_counts()"
   ],
   "metadata": {
    "collapsed": false,
    "ExecuteTime": {
     "end_time": "2024-02-22T03:37:35.048617200Z",
     "start_time": "2024-02-22T03:37:34.979562600Z"
    }
   },
   "execution_count": 455
  }
 ],
 "metadata": {
  "kernelspec": {
   "display_name": "Python 3",
   "language": "python",
   "name": "python3"
  },
  "language_info": {
   "codemirror_mode": {
    "name": "ipython",
    "version": 3
   },
   "file_extension": ".py",
   "mimetype": "text/x-python",
   "name": "python",
   "nbconvert_exporter": "python",
   "pygments_lexer": "ipython3",
   "version": "3.8.5"
  }
 },
 "nbformat": 4,
 "nbformat_minor": 4
}
