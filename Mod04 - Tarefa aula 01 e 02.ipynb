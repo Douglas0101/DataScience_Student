{
 "cells": [
  {
   "cell_type": "markdown",
   "metadata": {},
   "source": [
    "# Tarefa 01\n",
    "\n",
    "- Leia os enunciados com atenção\n",
    "- Saiba que pode haver mais de uma resposta correta\n",
    "- Insira novas células de código sempre que achar necessário\n",
    "- Em caso de dúvidas, procure os tutores\n",
    "- Divirta-se :)\n",
    "\n",
    "#### 1)  crie uma série do pandas a partir de uma lista com os dados abaixo:\n",
    "\n",
    "Em um estudo sobre alteração na tempreatura global, A NASA disponibiliza dados de diferenças de de temperatura média da superfície terrestre relativos às médias de temperatura entre 1951 e 1980. Os dados originais podem ser vistos no site da NASA/GISS, e estão dispostos a cada década na tabela abaixo.\n",
    "\n",
    "|ano|anomalia termica|\n",
    "|:-:|:----:|\n",
    "| 1900 | -0.08 |\n",
    "| 1920 | -0.27 |\n",
    "| 1940 | 0.12 |\n",
    "| 1960 | -0.03 |\n",
    "| 1980 | 0.26 |\n",
    "| 2000 | 0.40 |\n",
    "| 2020 | 1.02 |\n",
    "\n",
    "Crie uma séries do Pandas a partir de uma lista com esses dados."
   ]
  },
  {
   "cell_type": "code",
   "execution_count": 51,
   "metadata": {
    "ExecuteTime": {
     "end_time": "2024-02-01T01:35:51.166201300Z",
     "start_time": "2024-02-01T01:35:51.113060900Z"
    }
   },
   "outputs": [
    {
     "data": {
      "text/plain": "       Ano  Anomalia Térmica\n1900  1900             -0.08\n1920  1920             -0.27\n1940  1940              0.12\n1960  1960             -0.03\n1980  1980              0.26\n2000  2000              0.40\n2020  2020              1.02",
      "text/html": "<div>\n<style scoped>\n    .dataframe tbody tr th:only-of-type {\n        vertical-align: middle;\n    }\n\n    .dataframe tbody tr th {\n        vertical-align: top;\n    }\n\n    .dataframe thead th {\n        text-align: right;\n    }\n</style>\n<table border=\"1\" class=\"dataframe\">\n  <thead>\n    <tr style=\"text-align: right;\">\n      <th></th>\n      <th>Ano</th>\n      <th>Anomalia Térmica</th>\n    </tr>\n  </thead>\n  <tbody>\n    <tr>\n      <th>1900</th>\n      <td>1900</td>\n      <td>-0.08</td>\n    </tr>\n    <tr>\n      <th>1920</th>\n      <td>1920</td>\n      <td>-0.27</td>\n    </tr>\n    <tr>\n      <th>1940</th>\n      <td>1940</td>\n      <td>0.12</td>\n    </tr>\n    <tr>\n      <th>1960</th>\n      <td>1960</td>\n      <td>-0.03</td>\n    </tr>\n    <tr>\n      <th>1980</th>\n      <td>1980</td>\n      <td>0.26</td>\n    </tr>\n    <tr>\n      <th>2000</th>\n      <td>2000</td>\n      <td>0.40</td>\n    </tr>\n    <tr>\n      <th>2020</th>\n      <td>2020</td>\n      <td>1.02</td>\n    </tr>\n  </tbody>\n</table>\n</div>"
     },
     "execution_count": 51,
     "metadata": {},
     "output_type": "execute_result"
    }
   ],
   "source": [
    "import pandas as pd\n",
    "import numpy as np\n",
    "\n",
    "# Seu código aqui\n",
    "dados_temperaturas = [[1900, -0.08], [1920, -0.27], [1940, 0.12], [1960, -0.03], [1980, 0.26], [2000, 0.40], [2020, 1.02]]\n",
    "\n",
    "classes = ['1900', '1920', '1940', '1960', '1980', '2000', '2020']\n",
    "\n",
    "dados_temperaturas = pd.DataFrame(dados_temperaturas, columns=['Ano', 'Anomalia Térmica'], index=classes)\n",
    "classes = pd.Series(classes)\n",
    "dados_temperaturas"
   ]
  },
  {
   "cell_type": "markdown",
   "metadata": {},
   "source": [
    "#### 2) Coloque os anos nos índices conforme a tabela."
   ]
  },
  {
   "cell_type": "code",
   "outputs": [
    {
     "data": {
      "text/plain": "Ano    1900\nAno    1920\nAno    1940\nAno    1960\nAno    1980\nAno    2000\nAno    2020\ndtype: int64"
     },
     "execution_count": 52,
     "metadata": {},
     "output_type": "execute_result"
    }
   ],
   "source": [
    "anos = [1900, 1920, 1940, 1960, 1980, 2000, 2020]\n",
    "index=['Ano', 'Ano', 'Ano', 'Ano', 'Ano', 'Ano', 'Ano']\n",
    "# seu código aqui\n",
    "anos = pd.Series(anos, index=index)\n",
    "anos"
   ],
   "metadata": {
    "collapsed": false,
    "ExecuteTime": {
     "end_time": "2024-02-01T01:35:51.225098800Z",
     "start_time": "2024-02-01T01:35:51.172572500Z"
    }
   },
   "execution_count": 52
  },
  {
   "cell_type": "markdown",
   "metadata": {},
   "source": [
    "#### 3) A partir do dicionário abaixo, crie uma séries do Pandas:"
   ]
  },
  {
   "cell_type": "code",
   "execution_count": 53,
   "metadata": {
    "ExecuteTime": {
     "end_time": "2024-02-01T01:35:51.300091Z",
     "start_time": "2024-02-01T01:35:51.207895Z"
    }
   },
   "outputs": [
    {
     "data": {
      "text/plain": "1900   -0.08\n1920   -0.27\n1940    0.12\n1960   -0.03\n1980    0.26\n2000    0.40\n2020    1.02\ndtype: float64"
     },
     "execution_count": 53,
     "metadata": {},
     "output_type": "execute_result"
    }
   ],
   "source": [
    "dic_temperaturas = {1900: -.08, 1920: -.27, 1940: .12, 1960: -.03, 1980: .26, 2000: .40, 2020: 1.02}\n",
    "\n",
    "# seu código aqui\n",
    "dic_temperaturas = pd.Series(dic_temperaturas)\n",
    "dic_temperaturas"
   ]
  },
  {
   "cell_type": "markdown",
   "metadata": {},
   "source": [
    "#### 4) Transforme o ndarray abaixo em um dataframe. \n",
    "O numpy é capaz de gerar arrays n-dimensionais com números pseudo-aleatórios de acordo com uma variedade de distribuições, como no exemplo abaixo. Transforme esse nd-array em um DataFrame."
   ]
  },
  {
   "cell_type": "code",
   "execution_count": 54,
   "metadata": {
    "ExecuteTime": {
     "end_time": "2024-02-01T01:35:51.350925800Z",
     "start_time": "2024-02-01T01:35:51.274470600Z"
    }
   },
   "outputs": [
    {
     "data": {
      "text/plain": "             0           1           2\n0    88.323800  107.224022  104.081424\n1    99.026288  109.418333  103.748841\n2    93.510991  116.858285  105.108552\n3    94.276014   95.718447   81.756502\n4    93.813244  105.039303  102.793586\n5   104.517796  110.537796   94.376341\n6   104.697985   83.219623   85.510963\n7   103.630296  100.014663   93.361606\n8   111.246886  116.616810  108.999154\n9    95.358560   83.966047  124.862001\n10   77.783436   90.689444   94.254115\n11  104.324825   89.037866  108.964589\n12  105.025495  118.257395   98.149135\n13   92.097230  110.046282   90.274186\n14  101.409721  108.939563   88.222997\n15   98.455403   92.284618   84.469910\n16   92.915518  103.689105   92.799803\n17  121.854218   99.660647   84.487118\n18  113.171208  105.033592  119.918473\n19  104.340210  100.965200  109.863406",
      "text/html": "<div>\n<style scoped>\n    .dataframe tbody tr th:only-of-type {\n        vertical-align: middle;\n    }\n\n    .dataframe tbody tr th {\n        vertical-align: top;\n    }\n\n    .dataframe thead th {\n        text-align: right;\n    }\n</style>\n<table border=\"1\" class=\"dataframe\">\n  <thead>\n    <tr style=\"text-align: right;\">\n      <th></th>\n      <th>0</th>\n      <th>1</th>\n      <th>2</th>\n    </tr>\n  </thead>\n  <tbody>\n    <tr>\n      <th>0</th>\n      <td>88.323800</td>\n      <td>107.224022</td>\n      <td>104.081424</td>\n    </tr>\n    <tr>\n      <th>1</th>\n      <td>99.026288</td>\n      <td>109.418333</td>\n      <td>103.748841</td>\n    </tr>\n    <tr>\n      <th>2</th>\n      <td>93.510991</td>\n      <td>116.858285</td>\n      <td>105.108552</td>\n    </tr>\n    <tr>\n      <th>3</th>\n      <td>94.276014</td>\n      <td>95.718447</td>\n      <td>81.756502</td>\n    </tr>\n    <tr>\n      <th>4</th>\n      <td>93.813244</td>\n      <td>105.039303</td>\n      <td>102.793586</td>\n    </tr>\n    <tr>\n      <th>5</th>\n      <td>104.517796</td>\n      <td>110.537796</td>\n      <td>94.376341</td>\n    </tr>\n    <tr>\n      <th>6</th>\n      <td>104.697985</td>\n      <td>83.219623</td>\n      <td>85.510963</td>\n    </tr>\n    <tr>\n      <th>7</th>\n      <td>103.630296</td>\n      <td>100.014663</td>\n      <td>93.361606</td>\n    </tr>\n    <tr>\n      <th>8</th>\n      <td>111.246886</td>\n      <td>116.616810</td>\n      <td>108.999154</td>\n    </tr>\n    <tr>\n      <th>9</th>\n      <td>95.358560</td>\n      <td>83.966047</td>\n      <td>124.862001</td>\n    </tr>\n    <tr>\n      <th>10</th>\n      <td>77.783436</td>\n      <td>90.689444</td>\n      <td>94.254115</td>\n    </tr>\n    <tr>\n      <th>11</th>\n      <td>104.324825</td>\n      <td>89.037866</td>\n      <td>108.964589</td>\n    </tr>\n    <tr>\n      <th>12</th>\n      <td>105.025495</td>\n      <td>118.257395</td>\n      <td>98.149135</td>\n    </tr>\n    <tr>\n      <th>13</th>\n      <td>92.097230</td>\n      <td>110.046282</td>\n      <td>90.274186</td>\n    </tr>\n    <tr>\n      <th>14</th>\n      <td>101.409721</td>\n      <td>108.939563</td>\n      <td>88.222997</td>\n    </tr>\n    <tr>\n      <th>15</th>\n      <td>98.455403</td>\n      <td>92.284618</td>\n      <td>84.469910</td>\n    </tr>\n    <tr>\n      <th>16</th>\n      <td>92.915518</td>\n      <td>103.689105</td>\n      <td>92.799803</td>\n    </tr>\n    <tr>\n      <th>17</th>\n      <td>121.854218</td>\n      <td>99.660647</td>\n      <td>84.487118</td>\n    </tr>\n    <tr>\n      <th>18</th>\n      <td>113.171208</td>\n      <td>105.033592</td>\n      <td>119.918473</td>\n    </tr>\n    <tr>\n      <th>19</th>\n      <td>104.340210</td>\n      <td>100.965200</td>\n      <td>109.863406</td>\n    </tr>\n  </tbody>\n</table>\n</div>"
     },
     "execution_count": 54,
     "metadata": {},
     "output_type": "execute_result"
    }
   ],
   "source": [
    "arr = np.random.normal(100, 10, (20,3))\n",
    "\n",
    "# seu código aqui\n",
    "arr = pd.DataFrame(arr)\n",
    "arr"
   ]
  },
  {
   "cell_type": "markdown",
   "metadata": {},
   "source": [
    "#### 5) Nomeie os índices das linhas com inteiros de 1 a 20, e as colunas com os nomes \"x1\", \"x2\", e \"x3\" respectivamente."
   ]
  },
  {
   "cell_type": "code",
   "execution_count": 55,
   "metadata": {
    "ExecuteTime": {
     "end_time": "2024-02-01T01:35:51.388910600Z",
     "start_time": "2024-02-01T01:35:51.328076100Z"
    }
   },
   "outputs": [
    {
     "data": {
      "text/plain": "            x1          x2          x3\n1   108.331134   82.984436   94.128833\n2   100.644597   87.662100   95.411491\n3    83.654706  104.373881   99.944796\n4    88.730354   97.386722   85.663480\n5    99.668709  108.227383   84.135592\n6    99.375096   90.727930   84.679716\n7   100.211491  117.534289   80.934472\n8   112.459352   97.956240  104.594810\n9   104.545192  102.790837  101.713309\n10   73.684741  111.666064  100.575285\n11  101.458739   96.276999   85.123015\n12  111.191003  112.306910   93.147487\n13  102.583470  110.030919  100.250788\n14  109.943003  102.896274  121.198102\n15  103.429473   97.244651  102.939837\n16   93.685630   84.165259  104.819142\n17  110.768990   98.199315  114.571739\n18  109.141340   91.510603  105.887863\n19  101.557986  105.203249  102.912322\n20   93.574305   96.807489  109.565664",
      "text/html": "<div>\n<style scoped>\n    .dataframe tbody tr th:only-of-type {\n        vertical-align: middle;\n    }\n\n    .dataframe tbody tr th {\n        vertical-align: top;\n    }\n\n    .dataframe thead th {\n        text-align: right;\n    }\n</style>\n<table border=\"1\" class=\"dataframe\">\n  <thead>\n    <tr style=\"text-align: right;\">\n      <th></th>\n      <th>x1</th>\n      <th>x2</th>\n      <th>x3</th>\n    </tr>\n  </thead>\n  <tbody>\n    <tr>\n      <th>1</th>\n      <td>108.331134</td>\n      <td>82.984436</td>\n      <td>94.128833</td>\n    </tr>\n    <tr>\n      <th>2</th>\n      <td>100.644597</td>\n      <td>87.662100</td>\n      <td>95.411491</td>\n    </tr>\n    <tr>\n      <th>3</th>\n      <td>83.654706</td>\n      <td>104.373881</td>\n      <td>99.944796</td>\n    </tr>\n    <tr>\n      <th>4</th>\n      <td>88.730354</td>\n      <td>97.386722</td>\n      <td>85.663480</td>\n    </tr>\n    <tr>\n      <th>5</th>\n      <td>99.668709</td>\n      <td>108.227383</td>\n      <td>84.135592</td>\n    </tr>\n    <tr>\n      <th>6</th>\n      <td>99.375096</td>\n      <td>90.727930</td>\n      <td>84.679716</td>\n    </tr>\n    <tr>\n      <th>7</th>\n      <td>100.211491</td>\n      <td>117.534289</td>\n      <td>80.934472</td>\n    </tr>\n    <tr>\n      <th>8</th>\n      <td>112.459352</td>\n      <td>97.956240</td>\n      <td>104.594810</td>\n    </tr>\n    <tr>\n      <th>9</th>\n      <td>104.545192</td>\n      <td>102.790837</td>\n      <td>101.713309</td>\n    </tr>\n    <tr>\n      <th>10</th>\n      <td>73.684741</td>\n      <td>111.666064</td>\n      <td>100.575285</td>\n    </tr>\n    <tr>\n      <th>11</th>\n      <td>101.458739</td>\n      <td>96.276999</td>\n      <td>85.123015</td>\n    </tr>\n    <tr>\n      <th>12</th>\n      <td>111.191003</td>\n      <td>112.306910</td>\n      <td>93.147487</td>\n    </tr>\n    <tr>\n      <th>13</th>\n      <td>102.583470</td>\n      <td>110.030919</td>\n      <td>100.250788</td>\n    </tr>\n    <tr>\n      <th>14</th>\n      <td>109.943003</td>\n      <td>102.896274</td>\n      <td>121.198102</td>\n    </tr>\n    <tr>\n      <th>15</th>\n      <td>103.429473</td>\n      <td>97.244651</td>\n      <td>102.939837</td>\n    </tr>\n    <tr>\n      <th>16</th>\n      <td>93.685630</td>\n      <td>84.165259</td>\n      <td>104.819142</td>\n    </tr>\n    <tr>\n      <th>17</th>\n      <td>110.768990</td>\n      <td>98.199315</td>\n      <td>114.571739</td>\n    </tr>\n    <tr>\n      <th>18</th>\n      <td>109.141340</td>\n      <td>91.510603</td>\n      <td>105.887863</td>\n    </tr>\n    <tr>\n      <th>19</th>\n      <td>101.557986</td>\n      <td>105.203249</td>\n      <td>102.912322</td>\n    </tr>\n    <tr>\n      <th>20</th>\n      <td>93.574305</td>\n      <td>96.807489</td>\n      <td>109.565664</td>\n    </tr>\n  </tbody>\n</table>\n</div>"
     },
     "execution_count": 55,
     "metadata": {},
     "output_type": "execute_result"
    }
   ],
   "source": [
    "#seu código aqui\n",
    "arr = np.random.normal(100, 10, (20,3))\n",
    "arr = pd.DataFrame(arr, index=range(1, 21), columns=['x1', 'x2', 'x3'])\n",
    "arr"
   ]
  },
  {
   "cell_type": "markdown",
   "metadata": {},
   "source": [
    "#### 6) No DataFrame do exercício 5, crie uma nova coluna como sendo a média das três colunas, e dê a ela o nome de \"media\" (não recomendo colocar acentos em nomes de variáveis)."
   ]
  },
  {
   "cell_type": "code",
   "execution_count": 56,
   "metadata": {
    "ExecuteTime": {
     "end_time": "2024-02-01T01:35:51.457451400Z",
     "start_time": "2024-02-01T01:35:51.392085Z"
    }
   },
   "outputs": [
    {
     "data": {
      "text/plain": "            x1          x2          x3       media\n1   108.331134   82.984436   94.128833   95.148134\n2   100.644597   87.662100   95.411491   94.572729\n3    83.654706  104.373881   99.944796   95.991128\n4    88.730354   97.386722   85.663480   90.593519\n5    99.668709  108.227383   84.135592   97.343895\n6    99.375096   90.727930   84.679716   91.594247\n7   100.211491  117.534289   80.934472   99.560084\n8   112.459352   97.956240  104.594810  105.003467\n9   104.545192  102.790837  101.713309  103.016446\n10   73.684741  111.666064  100.575285   95.308697\n11  101.458739   96.276999   85.123015   94.286251\n12  111.191003  112.306910   93.147487  105.548467\n13  102.583470  110.030919  100.250788  104.288392\n14  109.943003  102.896274  121.198102  111.345793\n15  103.429473   97.244651  102.939837  101.204654\n16   93.685630   84.165259  104.819142   94.223343\n17  110.768990   98.199315  114.571739  107.846682\n18  109.141340   91.510603  105.887863  102.179935\n19  101.557986  105.203249  102.912322  103.224519\n20   93.574305   96.807489  109.565664   99.982486",
      "text/html": "<div>\n<style scoped>\n    .dataframe tbody tr th:only-of-type {\n        vertical-align: middle;\n    }\n\n    .dataframe tbody tr th {\n        vertical-align: top;\n    }\n\n    .dataframe thead th {\n        text-align: right;\n    }\n</style>\n<table border=\"1\" class=\"dataframe\">\n  <thead>\n    <tr style=\"text-align: right;\">\n      <th></th>\n      <th>x1</th>\n      <th>x2</th>\n      <th>x3</th>\n      <th>media</th>\n    </tr>\n  </thead>\n  <tbody>\n    <tr>\n      <th>1</th>\n      <td>108.331134</td>\n      <td>82.984436</td>\n      <td>94.128833</td>\n      <td>95.148134</td>\n    </tr>\n    <tr>\n      <th>2</th>\n      <td>100.644597</td>\n      <td>87.662100</td>\n      <td>95.411491</td>\n      <td>94.572729</td>\n    </tr>\n    <tr>\n      <th>3</th>\n      <td>83.654706</td>\n      <td>104.373881</td>\n      <td>99.944796</td>\n      <td>95.991128</td>\n    </tr>\n    <tr>\n      <th>4</th>\n      <td>88.730354</td>\n      <td>97.386722</td>\n      <td>85.663480</td>\n      <td>90.593519</td>\n    </tr>\n    <tr>\n      <th>5</th>\n      <td>99.668709</td>\n      <td>108.227383</td>\n      <td>84.135592</td>\n      <td>97.343895</td>\n    </tr>\n    <tr>\n      <th>6</th>\n      <td>99.375096</td>\n      <td>90.727930</td>\n      <td>84.679716</td>\n      <td>91.594247</td>\n    </tr>\n    <tr>\n      <th>7</th>\n      <td>100.211491</td>\n      <td>117.534289</td>\n      <td>80.934472</td>\n      <td>99.560084</td>\n    </tr>\n    <tr>\n      <th>8</th>\n      <td>112.459352</td>\n      <td>97.956240</td>\n      <td>104.594810</td>\n      <td>105.003467</td>\n    </tr>\n    <tr>\n      <th>9</th>\n      <td>104.545192</td>\n      <td>102.790837</td>\n      <td>101.713309</td>\n      <td>103.016446</td>\n    </tr>\n    <tr>\n      <th>10</th>\n      <td>73.684741</td>\n      <td>111.666064</td>\n      <td>100.575285</td>\n      <td>95.308697</td>\n    </tr>\n    <tr>\n      <th>11</th>\n      <td>101.458739</td>\n      <td>96.276999</td>\n      <td>85.123015</td>\n      <td>94.286251</td>\n    </tr>\n    <tr>\n      <th>12</th>\n      <td>111.191003</td>\n      <td>112.306910</td>\n      <td>93.147487</td>\n      <td>105.548467</td>\n    </tr>\n    <tr>\n      <th>13</th>\n      <td>102.583470</td>\n      <td>110.030919</td>\n      <td>100.250788</td>\n      <td>104.288392</td>\n    </tr>\n    <tr>\n      <th>14</th>\n      <td>109.943003</td>\n      <td>102.896274</td>\n      <td>121.198102</td>\n      <td>111.345793</td>\n    </tr>\n    <tr>\n      <th>15</th>\n      <td>103.429473</td>\n      <td>97.244651</td>\n      <td>102.939837</td>\n      <td>101.204654</td>\n    </tr>\n    <tr>\n      <th>16</th>\n      <td>93.685630</td>\n      <td>84.165259</td>\n      <td>104.819142</td>\n      <td>94.223343</td>\n    </tr>\n    <tr>\n      <th>17</th>\n      <td>110.768990</td>\n      <td>98.199315</td>\n      <td>114.571739</td>\n      <td>107.846682</td>\n    </tr>\n    <tr>\n      <th>18</th>\n      <td>109.141340</td>\n      <td>91.510603</td>\n      <td>105.887863</td>\n      <td>102.179935</td>\n    </tr>\n    <tr>\n      <th>19</th>\n      <td>101.557986</td>\n      <td>105.203249</td>\n      <td>102.912322</td>\n      <td>103.224519</td>\n    </tr>\n    <tr>\n      <th>20</th>\n      <td>93.574305</td>\n      <td>96.807489</td>\n      <td>109.565664</td>\n      <td>99.982486</td>\n    </tr>\n  </tbody>\n</table>\n</div>"
     },
     "execution_count": 56,
     "metadata": {},
     "output_type": "execute_result"
    }
   ],
   "source": [
    "# seu código aqui\n",
    "arr['media'] = (arr['x1'] + arr['x2'] + arr['x3']) / 3\n",
    "arr"
   ]
  },
  {
   "cell_type": "markdown",
   "metadata": {},
   "source": [
    "#### 7) No DataFrame do exercício 6, crie uma nova coluna chamada \"log_med\", contendo o logaritmo natural da média calculada no exercício 6 <br>"
   ]
  },
  {
   "cell_type": "code",
   "execution_count": 58,
   "metadata": {
    "ExecuteTime": {
     "end_time": "2024-02-01T01:36:07.513683200Z",
     "start_time": "2024-02-01T01:36:07.505896200Z"
    }
   },
   "outputs": [
    {
     "data": {
      "text/plain": "            x1          x2          x3       media   log_med\n1   108.331134   82.984436   94.128833   95.148134  4.555435\n2   100.644597   87.662100   95.411491   94.572729  4.549369\n3    83.654706  104.373881   99.944796   95.991128  4.564256\n4    88.730354   97.386722   85.663480   90.593519  4.506383\n5    99.668709  108.227383   84.135592   97.343895  4.578250\n6    99.375096   90.727930   84.679716   91.594247  4.517368\n7   100.211491  117.534289   80.934472   99.560084  4.600761\n8   112.459352   97.956240  104.594810  105.003467  4.653993\n9   104.545192  102.790837  101.713309  103.016446  4.634889\n10   73.684741  111.666064  100.575285   95.308697  4.557121\n11  101.458739   96.276999   85.123015   94.286251  4.546335\n12  111.191003  112.306910   93.147487  105.548467  4.659170\n13  102.583470  110.030919  100.250788  104.288392  4.647160\n14  109.943003  102.896274  121.198102  111.345793  4.712641\n15  103.429473   97.244651  102.939837  101.204654  4.617145\n16   93.685630   84.165259  104.819142   94.223343  4.545668\n17  110.768990   98.199315  114.571739  107.846682  4.680711\n18  109.141340   91.510603  105.887863  102.179935  4.626735\n19  101.557986  105.203249  102.912322  103.224519  4.636906\n20   93.574305   96.807489  109.565664   99.982486  4.604995",
      "text/html": "<div>\n<style scoped>\n    .dataframe tbody tr th:only-of-type {\n        vertical-align: middle;\n    }\n\n    .dataframe tbody tr th {\n        vertical-align: top;\n    }\n\n    .dataframe thead th {\n        text-align: right;\n    }\n</style>\n<table border=\"1\" class=\"dataframe\">\n  <thead>\n    <tr style=\"text-align: right;\">\n      <th></th>\n      <th>x1</th>\n      <th>x2</th>\n      <th>x3</th>\n      <th>media</th>\n      <th>log_med</th>\n    </tr>\n  </thead>\n  <tbody>\n    <tr>\n      <th>1</th>\n      <td>108.331134</td>\n      <td>82.984436</td>\n      <td>94.128833</td>\n      <td>95.148134</td>\n      <td>4.555435</td>\n    </tr>\n    <tr>\n      <th>2</th>\n      <td>100.644597</td>\n      <td>87.662100</td>\n      <td>95.411491</td>\n      <td>94.572729</td>\n      <td>4.549369</td>\n    </tr>\n    <tr>\n      <th>3</th>\n      <td>83.654706</td>\n      <td>104.373881</td>\n      <td>99.944796</td>\n      <td>95.991128</td>\n      <td>4.564256</td>\n    </tr>\n    <tr>\n      <th>4</th>\n      <td>88.730354</td>\n      <td>97.386722</td>\n      <td>85.663480</td>\n      <td>90.593519</td>\n      <td>4.506383</td>\n    </tr>\n    <tr>\n      <th>5</th>\n      <td>99.668709</td>\n      <td>108.227383</td>\n      <td>84.135592</td>\n      <td>97.343895</td>\n      <td>4.578250</td>\n    </tr>\n    <tr>\n      <th>6</th>\n      <td>99.375096</td>\n      <td>90.727930</td>\n      <td>84.679716</td>\n      <td>91.594247</td>\n      <td>4.517368</td>\n    </tr>\n    <tr>\n      <th>7</th>\n      <td>100.211491</td>\n      <td>117.534289</td>\n      <td>80.934472</td>\n      <td>99.560084</td>\n      <td>4.600761</td>\n    </tr>\n    <tr>\n      <th>8</th>\n      <td>112.459352</td>\n      <td>97.956240</td>\n      <td>104.594810</td>\n      <td>105.003467</td>\n      <td>4.653993</td>\n    </tr>\n    <tr>\n      <th>9</th>\n      <td>104.545192</td>\n      <td>102.790837</td>\n      <td>101.713309</td>\n      <td>103.016446</td>\n      <td>4.634889</td>\n    </tr>\n    <tr>\n      <th>10</th>\n      <td>73.684741</td>\n      <td>111.666064</td>\n      <td>100.575285</td>\n      <td>95.308697</td>\n      <td>4.557121</td>\n    </tr>\n    <tr>\n      <th>11</th>\n      <td>101.458739</td>\n      <td>96.276999</td>\n      <td>85.123015</td>\n      <td>94.286251</td>\n      <td>4.546335</td>\n    </tr>\n    <tr>\n      <th>12</th>\n      <td>111.191003</td>\n      <td>112.306910</td>\n      <td>93.147487</td>\n      <td>105.548467</td>\n      <td>4.659170</td>\n    </tr>\n    <tr>\n      <th>13</th>\n      <td>102.583470</td>\n      <td>110.030919</td>\n      <td>100.250788</td>\n      <td>104.288392</td>\n      <td>4.647160</td>\n    </tr>\n    <tr>\n      <th>14</th>\n      <td>109.943003</td>\n      <td>102.896274</td>\n      <td>121.198102</td>\n      <td>111.345793</td>\n      <td>4.712641</td>\n    </tr>\n    <tr>\n      <th>15</th>\n      <td>103.429473</td>\n      <td>97.244651</td>\n      <td>102.939837</td>\n      <td>101.204654</td>\n      <td>4.617145</td>\n    </tr>\n    <tr>\n      <th>16</th>\n      <td>93.685630</td>\n      <td>84.165259</td>\n      <td>104.819142</td>\n      <td>94.223343</td>\n      <td>4.545668</td>\n    </tr>\n    <tr>\n      <th>17</th>\n      <td>110.768990</td>\n      <td>98.199315</td>\n      <td>114.571739</td>\n      <td>107.846682</td>\n      <td>4.680711</td>\n    </tr>\n    <tr>\n      <th>18</th>\n      <td>109.141340</td>\n      <td>91.510603</td>\n      <td>105.887863</td>\n      <td>102.179935</td>\n      <td>4.626735</td>\n    </tr>\n    <tr>\n      <th>19</th>\n      <td>101.557986</td>\n      <td>105.203249</td>\n      <td>102.912322</td>\n      <td>103.224519</td>\n      <td>4.636906</td>\n    </tr>\n    <tr>\n      <th>20</th>\n      <td>93.574305</td>\n      <td>96.807489</td>\n      <td>109.565664</td>\n      <td>99.982486</td>\n      <td>4.604995</td>\n    </tr>\n  </tbody>\n</table>\n</div>"
     },
     "execution_count": 58,
     "metadata": {},
     "output_type": "execute_result"
    }
   ],
   "source": [
    "# seu código aqui\n",
    "arr['log_med'] = np.log(arr['media'])\n",
    "arr"
   ]
  }
 ],
 "metadata": {
  "kernelspec": {
   "display_name": "Python 3",
   "language": "python",
   "name": "python3"
  },
  "language_info": {
   "codemirror_mode": {
    "name": "ipython",
    "version": 3
   },
   "file_extension": ".py",
   "mimetype": "text/x-python",
   "name": "python",
   "nbconvert_exporter": "python",
   "pygments_lexer": "ipython3",
   "version": "3.8.5"
  }
 },
 "nbformat": 4,
 "nbformat_minor": 4
}
