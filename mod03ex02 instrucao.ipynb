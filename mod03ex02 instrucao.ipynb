{
 "cells": [
  {
   "cell_type": "code",
   "execution_count": 499,
   "metadata": {
    "id": "fFhFteHV695k",
    "ExecuteTime": {
     "end_time": "2024-01-31T06:37:51.271604200Z",
     "start_time": "2024-01-31T06:37:51.176171300Z"
    }
   },
   "outputs": [],
   "source": [
    "import numpy as np"
   ]
  },
  {
   "cell_type": "markdown",
   "metadata": {
    "id": "YLWEzg3N695m"
   },
   "source": [
    "### 1) Alturas  \n",
    "i. No trecho de código abaixo, crie um ndarray chamado ```altura_em_centimetros``` transformando a lista ```lista_de_alturas``` em um ndarray do numpy com a função ```np.array()```  \n",
    "ii. Crie um outro objeto ```altura_em_metros```, com os valores de ```altura_em_centimetros``` convertidos para metros."
   ]
  },
  {
   "cell_type": "code",
   "execution_count": 500,
   "metadata": {
    "id": "tx6DbJk7695o",
    "ExecuteTime": {
     "end_time": "2024-01-31T06:37:51.291588100Z",
     "start_time": "2024-01-31T06:37:51.277465300Z"
    }
   },
   "outputs": [],
   "source": [
    "lista_de_centimetros = list(range(170, 190, 5))\n",
    "lista_de_centimetros = np.array(lista_de_centimetros)"
   ]
  },
  {
   "cell_type": "code",
   "execution_count": 501,
   "metadata": {
    "id": "zFDQt9_K695p",
    "ExecuteTime": {
     "end_time": "2024-01-31T06:37:51.331000300Z",
     "start_time": "2024-01-31T06:37:51.295768400Z"
    }
   },
   "outputs": [
    {
     "name": "stdout",
     "output_type": "stream",
     "text": [
      "[1.7  1.75 1.8  1.85]\n"
     ]
    }
   ],
   "source": [
    "altura_em_metros = lista_de_centimetros / 100\n",
    "print(altura_em_metros)"
   ]
  },
  {
   "cell_type": "markdown",
   "metadata": {
    "id": "hlsDzubv695p"
   },
   "source": [
    "### 2) IMC  \n",
    "i. Considere que pesos em Kg dessas pessoas, na mesma ortem, estão na lista pesos ```lista_pesos = [70, 75, 80, 85]```. Crie um **ndarray** chamado ```pesos``` com a função ```np.array()``` que contenha esses valores.  \n",
    "ii. Utilizando o objeto que contém as alturas em metros e esse objeto que contém os respectivos pesos em quilos, calcule o IMC desses indivíduos utilizando a aritmética de arrays e guarde os resultados em um objeto chamado ```imc```."
   ]
  },
  {
   "cell_type": "code",
   "execution_count": 502,
   "metadata": {
    "id": "YL87C0It695p",
    "outputId": "f147f2f0-c5e8-407c-a708-914ddc99fa6d",
    "ExecuteTime": {
     "end_time": "2024-01-31T06:37:51.333401200Z",
     "start_time": "2024-01-31T06:37:51.320403200Z"
    }
   },
   "outputs": [],
   "source": [
    "lista_pesos = [70, 75, 80, 85]\n",
    "lista_pesos = np.array(lista_pesos)\n",
    "\n",
    "# seu código aqui\n",
    "\n",
    "def imc(lista_pesos, altura_em_metros):\n",
    "    return np.round(lista_pesos / (altura_em_metros ** 2), 2)"
   ]
  },
  {
   "cell_type": "code",
   "execution_count": 503,
   "metadata": {
    "id": "WgZtY2Ox695q",
    "ExecuteTime": {
     "end_time": "2024-01-31T06:37:51.375311800Z",
     "start_time": "2024-01-31T06:37:51.339284700Z"
    }
   },
   "outputs": [
    {
     "name": "stdout",
     "output_type": "stream",
     "text": [
      "[24.22 24.49 24.69 24.84]\n"
     ]
    }
   ],
   "source": [
    "# calcule o IMC dessas pessoas\n",
    "\n",
    "print(imc(lista_pesos, altura_em_metros))"
   ]
  },
  {
   "cell_type": "markdown",
   "metadata": {
    "id": "k1JIBxZb695r"
   },
   "source": [
    "### 3) Endividamento\n",
    "\n",
    "Cálculos de novas variáveis como endividamento total e comprometimento de renda são essenciais para a construção de modelos financeiros em ciência de dados. Áreas não financeiras terão cálculos semelhantes também. Vamos praticar:\n",
    "\n",
    "Considere que o seguinte ndarray contém os dados de 4 pessoas, total a ser pago a empréstimos mensalmente e renda familiar:\n",
    "\n",
    "| custo fixo | dívida financeira | renda familiar |\n",
    "|:----:|:----:|:---|\n",
    "| 3000  | 1000 | 6000 |\n",
    "| 2500  | 2500 | 5500 |\n",
    "| 1000  | 3000 | 7000 |\n",
    "| 10000 | 5000 | 16000 |\n",
    "\n",
    "i. Transforme a lista de listas ```dados_financeiros``` no ndarray ```nd_financeiros```.\n",
    "> ``` dados_financeiros[[3000, 2500, 1000, 10000],[1000, 2500, 3000, 5000],[6000, 5500, 7000, 16000]] ```\n",
    "\n",
    "ii. Utilize o método ```.transpose ``` e certifique-se de que esse ndarray tenha uma linha por indivíduo e uma coluna por informação. Utilizando a indexação do numpy, imprima no output a segunda linha do array, depois a segunda coluna.\n",
    "\n",
    "iii. Pratique aritmética com nearrays e calcule o endividamento total como:\n",
    "$$endividamento\\hspace{.2cm}total = \\frac{custo \\hspace{.2cm}fixo + dívida\\hspace{.2cm}financeira}{renda\\hspace{.2cm}familiar}$$\n",
    "Guarde os resultados em uma variável chamada ```endividamento_total``` e verifique os resultados imprimindo o conteúdo dessa variável no output.\n",
    "\n",
    "iv. Considere que há um erro de digitação que precisa ser corrigido: 3o indivíduo na verdade não possui renda familiar de R\\\\$7.000,00, mas sim R\\\\$ 10.000,00. Corrija esse valor e refaça os cálculos."
   ]
  },
  {
   "cell_type": "code",
   "execution_count": 504,
   "metadata": {
    "id": "k17jw6kT695r",
    "ExecuteTime": {
     "end_time": "2024-01-31T06:37:51.377312100Z",
     "start_time": "2024-01-31T06:37:51.353755Z"
    }
   },
   "outputs": [],
   "source": [
    "# lista dados_financeiros\n",
    "dados_financeiros = [[3000, 2500, 1000, 10000],[1000, 2500, 3000, 5000],[6000, 5500, 7000, 16000]]\n",
    "dados_financeiros = np.array(dados_financeiros)\n",
    "#i) transforme essa lista em um ndarray"
   ]
  },
  {
   "cell_type": "code",
   "execution_count": 505,
   "metadata": {
    "id": "ecRsPjml695r",
    "ExecuteTime": {
     "end_time": "2024-01-31T06:37:51.410470400Z",
     "start_time": "2024-01-31T06:37:51.383198900Z"
    }
   },
   "outputs": [
    {
     "name": "stdout",
     "output_type": "stream",
     "text": [
      "Lista filtrada para melhor entendimento.\n",
      "[3000 1000 6000] | [2500 2500 5500] | [1000 3000 7000] | [10000  5000 16000]\n"
     ]
    }
   ],
   "source": [
    "# ii) \n",
    "nd_financeiros = np.transpose(dados_financeiros)\n",
    "print(f'Lista filtrada para melhor entendimento.')\n",
    "print(nd_financeiros[0], \"|\", nd_financeiros[1], \"|\", nd_financeiros[2], \"|\", nd_financeiros[3])"
   ]
  },
  {
   "cell_type": "code",
   "execution_count": 506,
   "metadata": {
    "id": "RgMG-t9-695s",
    "ExecuteTime": {
     "end_time": "2024-01-31T06:37:51.444600100Z",
     "start_time": "2024-01-31T06:37:51.415262300Z"
    }
   },
   "outputs": [
    {
     "data": {
      "text/plain": "array([ 3000.17,  2500.45,  1000.43, 10000.31])"
     },
     "execution_count": 506,
     "metadata": {},
     "output_type": "execute_result"
    }
   ],
   "source": [
    "# iii) Calcule o endividamento total\n",
    "def endividamento_total(nd_financeiros):\n",
    "    return np.round(nd_financeiros[:, 0] + nd_financeiros[:, 1] / nd_financeiros[:, 2], 2)\n",
    "endividamento_total(nd_financeiros)"
   ]
  },
  {
   "cell_type": "code",
   "execution_count": 507,
   "metadata": {
    "id": "FxaSHRgy695t",
    "ExecuteTime": {
     "end_time": "2024-01-31T06:37:51.488225800Z",
     "start_time": "2024-01-31T06:37:51.450599700Z"
    }
   },
   "outputs": [
    {
     "data": {
      "text/plain": "array([ 3000.17,  2500.45,  1000.3 , 10000.31])"
     },
     "execution_count": 507,
     "metadata": {},
     "output_type": "execute_result"
    }
   ],
   "source": [
    "# iv) corrigindo um valor específico\n",
    "nd_financeiros[2, 2] = 10000\n",
    "endividamento_total(nd_financeiros)"
   ]
  },
  {
   "cell_type": "code",
   "execution_count": 508,
   "metadata": {
    "id": "OYxfd00O695t",
    "ExecuteTime": {
     "end_time": "2024-01-31T06:37:51.512188400Z",
     "start_time": "2024-01-31T06:37:51.479766200Z"
    }
   },
   "outputs": [
    {
     "data": {
      "text/plain": "array([ 3000.17,  2500.45,  1000.43, 10000.31])"
     },
     "execution_count": 508,
     "metadata": {},
     "output_type": "execute_result"
    }
   ],
   "source": [
    "# Valor não corrigo o resultado fica alterado na posição 3 sob o número dois de 13 centavos em relação ao valor correto.\n",
    "nd_financeiros[2, 2] = 7000\n",
    "endividamento_total(nd_financeiros)"
   ]
  },
  {
   "cell_type": "markdown",
   "metadata": {
    "id": "RghMgSOX695t"
   },
   "source": [
    "### 4) É muito comum precisarmos identificar valores especiais e darmos tratamento a eles quer seja alterando-os quer seja descartando-os. \n",
    "\n",
    "O trecho de código abaixo gera um ndarray com números pseudo aleatórios. Considere que para efeitos do estudo que virá, devemos desconsiderar valores iguais a zero. Sendo assim:\n",
    "\n",
    "i) crie um objeto ```bool_zero``` que traga uma sequencia de booleanos do mesmo tamanho que o objeto poi, e que vale ```True``` quando o valor de ```poi``` é zero, e ```False``` caso contrário.\n",
    "\n",
    "ii) Conte quantos valores zero existem. Lembre-se de que no final das contas, ```True``` vale 1 para o Python, e ```False``` vale zero, então uma boa dica seria usar a função ```sum()```.\n",
    "\n",
    "iii) Utilize a indexação booleana que você aprendeu para criar uma variável ```poi_nao_zero``` que aponta para os elementos de ```poi``` diferentes de zero. Dica: você vai pode inverter os elementos do objeto que criou em *ii)* ou escrever a comparação adequada."
   ]
  },
  {
   "cell_type": "code",
   "execution_count": 509,
   "metadata": {
    "id": "Y6JUhNiT695t",
    "outputId": "06ceb3b7-5eb0-45d0-f3b3-ea6ff6f0df2a",
    "ExecuteTime": {
     "end_time": "2024-01-31T06:37:51.530474800Z",
     "start_time": "2024-01-31T06:37:51.520072500Z"
    }
   },
   "outputs": [
    {
     "data": {
      "text/plain": "array([3, 3, 6, 2, 4, 5, 4, 4, 2, 0, 3, 3, 2, 8, 2, 3, 3, 3, 0, 4, 4, 2,\n       6, 6, 0, 3, 4, 3, 5, 2, 1, 3, 2, 2, 3, 2, 4, 4, 5, 7, 3, 5, 3, 3,\n       2, 2, 3, 6, 2, 2, 4, 3, 5, 2, 5, 3, 0, 2, 1, 1, 4, 4, 4, 6, 2, 4,\n       1, 2, 5, 5, 3, 4, 1, 4, 1, 1, 7, 1, 2, 1, 3, 7, 0, 4, 4, 0, 6, 1,\n       3, 4, 2, 5, 4, 5, 5, 3, 4, 6, 8, 2])"
     },
     "execution_count": 509,
     "metadata": {},
     "output_type": "execute_result"
    }
   ],
   "source": [
    "# objeto poi - obs: o comando np.random.seed(1234) garante que o mesmo resultado será gerado sempre\n",
    "np.random.seed(1234)\n",
    "poi = np.random.poisson(3, 100)\n",
    "poi"
   ]
  },
  {
   "cell_type": "code",
   "execution_count": 510,
   "metadata": {
    "id": "dWElD2MJ695u",
    "ExecuteTime": {
     "end_time": "2024-01-31T06:37:51.583667800Z",
     "start_time": "2024-01-31T06:37:51.532982800Z"
    }
   },
   "outputs": [],
   "source": [
    "# i) crie o objeto bool_zero através do operador ==\n",
    "bool_zero = poi == 0"
   ]
  },
  {
   "cell_type": "code",
   "execution_count": 511,
   "metadata": {
    "id": "hr-knXzs695u",
    "ExecuteTime": {
     "end_time": "2024-01-31T06:37:51.584668Z",
     "start_time": "2024-01-31T06:37:51.551273500Z"
    }
   },
   "outputs": [
    {
     "data": {
      "text/plain": "6"
     },
     "execution_count": 511,
     "metadata": {},
     "output_type": "execute_result"
    }
   ],
   "source": [
    "# ii) Conte a quantidade de zeros (ou some os elementos de bool_zero)\n",
    "sum(bool_zero)"
   ]
  },
  {
   "cell_type": "code",
   "execution_count": 512,
   "metadata": {
    "id": "5s3DqCup695u",
    "ExecuteTime": {
     "end_time": "2024-01-31T06:37:51.631675700Z",
     "start_time": "2024-01-31T06:37:51.589154100Z"
    }
   },
   "outputs": [],
   "source": [
    "# iii) utilize a indexação booleana para criar uma seleção de não-zeros\n",
    "non_zero_poi = poi[poi != 0]\n",
    "# dica: inverta o objeto bool_zero\n",
    "poi[poi == 0] = 1"
   ]
  },
  {
   "cell_type": "code",
   "outputs": [
    {
     "name": "stdout",
     "output_type": "stream",
     "text": [
      "poi: [3 3 6 2 4 5 4 4 2 1 3 3 2 8 2 3 3 3 1 4 4 2 6 6 1 3 4 3 5 2 1 3 2 2 3 2 4\n",
      " 4 5 7 3 5 3 3 2 2 3 6 2 2 4 3 5 2 5 3 1 2 1 1 4 4 4 6 2 4 1 2 5 5 3 4 1 4\n",
      " 1 1 7 1 2 1 3 7 1 4 4 1 6 1 3 4 2 5 4 5 5 3 4 6 8 2]\n",
      "bool_zero: [False False False False False False False False False  True False False\n",
      " False False False False False False  True False False False False False\n",
      "  True False False False False False False False False False False False\n",
      " False False False False False False False False False False False False\n",
      " False False False False False False False False  True False False False\n",
      " False False False False False False False False False False False False\n",
      " False False False False False False False False False False  True False\n",
      " False  True False False False False False False False False False False\n",
      " False False False False]\n",
      "non_zero_poi: [3 3 6 2 4 5 4 4 2 3 3 2 8 2 3 3 3 4 4 2 6 6 3 4 3 5 2 1 3 2 2 3 2 4 4 5 7\n",
      " 3 5 3 3 2 2 3 6 2 2 4 3 5 2 5 3 2 1 1 4 4 4 6 2 4 1 2 5 5 3 4 1 4 1 1 7 1\n",
      " 2 1 3 7 4 4 6 1 3 4 2 5 4 5 5 3 4 6 8 2]\n"
     ]
    }
   ],
   "source": [
    "# saídas\n",
    "print(f'poi: {poi}')\n",
    "print(f'bool_zero: {bool_zero}')\n",
    "print(f'non_zero_poi: {non_zero_poi}')"
   ],
   "metadata": {
    "collapsed": false,
    "ExecuteTime": {
     "end_time": "2024-01-31T06:37:51.649610200Z",
     "start_time": "2024-01-31T06:37:51.638676300Z"
    }
   },
   "execution_count": 513
  }
 ],
 "metadata": {
  "kernelspec": {
   "display_name": "Python 3",
   "language": "python",
   "name": "python3"
  },
  "language_info": {
   "codemirror_mode": {
    "name": "ipython",
    "version": 3
   },
   "file_extension": ".py",
   "mimetype": "text/x-python",
   "name": "python",
   "nbconvert_exporter": "python",
   "pygments_lexer": "ipython3",
   "version": "3.8.5"
  },
  "colab": {
   "provenance": [],
   "collapsed_sections": []
  }
 },
 "nbformat": 4,
 "nbformat_minor": 0
}
